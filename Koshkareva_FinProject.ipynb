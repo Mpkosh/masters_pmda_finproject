{
  "nbformat": 4,
  "nbformat_minor": 0,
  "metadata": {
    "colab": {
      "name": "Koshkareva_FinProject.ipynb",
      "provenance": [],
      "collapsed_sections": [],
      "toc_visible": true,
      "authorship_tag": "ABX9TyOYNIZZIw5u0KoKDvMDRDMX",
      "include_colab_link": true
    },
    "kernelspec": {
      "name": "python3",
      "display_name": "Python 3"
    },
    "language_info": {
      "name": "python"
    }
  },
  "cells": [
    {
      "cell_type": "markdown",
      "metadata": {
        "id": "view-in-github",
        "colab_type": "text"
      },
      "source": [
        "<a href=\"https://colab.research.google.com/github/Mpkosh/masters_pmda_finproject/blob/main/Koshkareva_FinProject.ipynb\" target=\"_parent\"><img src=\"https://colab.research.google.com/assets/colab-badge.svg\" alt=\"Open In Colab\"/></a>"
      ]
    },
    {
      "cell_type": "markdown",
      "metadata": {
        "id": "g6enN3N4fGyF"
      },
      "source": [
        "# **Индивидуальный проект**"
      ]
    },
    {
      "cell_type": "code",
      "metadata": {
        "id": "1gIyVGRwnfjB",
        "cellView": "form"
      },
      "source": [
        "#@title Загружаем библиотеки\n",
        "import numpy as np\n",
        "import pandas as pd\n",
        "\n",
        "import seaborn as sns\n",
        "import matplotlib.pyplot as plt\n",
        "\n",
        "from sklearn.feature_selection import SelectKBest,f_classif,SelectPercentile, f_regression\n",
        "from sklearn.model_selection import train_test_split,GridSearchCV\n",
        "from sklearn.preprocessing import Normalizer\n",
        "\n",
        "from sklearn.ensemble import RandomForestClassifier\n",
        "from sklearn.metrics import f1_score,roc_auc_score\n",
        "from sklearn.linear_model import LogisticRegression"
      ],
      "execution_count": null,
      "outputs": []
    },
    {
      "cell_type": "code",
      "metadata": {
        "id": "1bGpuMjcmSj1",
        "cellView": "form"
      },
      "source": [
        "#@title Загружаем данные\n",
        "%%capture\n",
        "from google.colab import drive\n",
        "drive.mount('/content/drive')\n",
        "\n",
        "with open('/content/drive/My Drive/master/pt/data/train_v2.csv') as file:\n",
        "    df = pd.read_csv(file) \n",
        "\n",
        "drive.flush_and_unmount()"
      ],
      "execution_count": null,
      "outputs": []
    },
    {
      "cell_type": "markdown",
      "metadata": {
        "id": "_r1TUhzkQxXs"
      },
      "source": [
        "\n",
        "\n",
        "*This competition asks you to determine whether a loan will default, as well as the loss incurred if it does default. Unlike traditional finance-based approaches to this problem, where one distinguishes between good or bad counterparties in a binary way, we seek to anticipate and incorporate both the default and the severity of the losses that result. In doing so, we are building a bridge between traditional banking, where we are looking at reducing the consumption of economic capital, to an asset-management perspective, where we optimize on the risk to the financial investor.*\n",
        "\n",
        "Было выдвинуто две задачи, из которых я выбрала первую:\n",
        "*   Прогнозирование дефолта по кредиту $\\checkmark$\n",
        "*   Потери в случае наступления дефолта\n",
        "\n",
        "(https://www.kaggle.com/c/loan-default-prediction/overview)"
      ]
    },
    {
      "cell_type": "markdown",
      "metadata": {
        "id": "A7RXN2AlQ0oz"
      },
      "source": [
        "Для начала посмотрим на датасет."
      ]
    },
    {
      "cell_type": "code",
      "metadata": {
        "colab": {
          "base_uri": "https://localhost:8080/"
        },
        "id": "Ut2dzoQRufAD",
        "outputId": "11fd69ac-b9ef-4363-8ffe-9224b66edf94"
      },
      "source": [
        "df.shape"
      ],
      "execution_count": null,
      "outputs": [
        {
          "output_type": "execute_result",
          "data": {
            "text/plain": [
              "(105471, 771)"
            ]
          },
          "metadata": {},
          "execution_count": 3
        }
      ]
    },
    {
      "cell_type": "code",
      "metadata": {
        "colab": {
          "base_uri": "https://localhost:8080/",
          "height": 252
        },
        "id": "CaiFURqCnkuA",
        "outputId": "5e831bd1-1ec9-495f-d699-ebabba3b64a9"
      },
      "source": [
        "df.head(5)"
      ],
      "execution_count": null,
      "outputs": [
        {
          "output_type": "execute_result",
          "data": {
            "text/html": [
              "<div>\n",
              "<style scoped>\n",
              "    .dataframe tbody tr th:only-of-type {\n",
              "        vertical-align: middle;\n",
              "    }\n",
              "\n",
              "    .dataframe tbody tr th {\n",
              "        vertical-align: top;\n",
              "    }\n",
              "\n",
              "    .dataframe thead th {\n",
              "        text-align: right;\n",
              "    }\n",
              "</style>\n",
              "<table border=\"1\" class=\"dataframe\">\n",
              "  <thead>\n",
              "    <tr style=\"text-align: right;\">\n",
              "      <th></th>\n",
              "      <th>id</th>\n",
              "      <th>f1</th>\n",
              "      <th>f2</th>\n",
              "      <th>f3</th>\n",
              "      <th>f4</th>\n",
              "      <th>f5</th>\n",
              "      <th>f6</th>\n",
              "      <th>f7</th>\n",
              "      <th>f8</th>\n",
              "      <th>f9</th>\n",
              "      <th>f10</th>\n",
              "      <th>f13</th>\n",
              "      <th>f14</th>\n",
              "      <th>f15</th>\n",
              "      <th>f16</th>\n",
              "      <th>f17</th>\n",
              "      <th>f18</th>\n",
              "      <th>f19</th>\n",
              "      <th>f20</th>\n",
              "      <th>f21</th>\n",
              "      <th>f22</th>\n",
              "      <th>f23</th>\n",
              "      <th>f24</th>\n",
              "      <th>f25</th>\n",
              "      <th>f26</th>\n",
              "      <th>f27</th>\n",
              "      <th>f28</th>\n",
              "      <th>f29</th>\n",
              "      <th>f30</th>\n",
              "      <th>f31</th>\n",
              "      <th>f32</th>\n",
              "      <th>f33</th>\n",
              "      <th>f34</th>\n",
              "      <th>f35</th>\n",
              "      <th>f36</th>\n",
              "      <th>f37</th>\n",
              "      <th>f38</th>\n",
              "      <th>f39</th>\n",
              "      <th>f40</th>\n",
              "      <th>f41</th>\n",
              "      <th>...</th>\n",
              "      <th>f740</th>\n",
              "      <th>f741</th>\n",
              "      <th>f742</th>\n",
              "      <th>f743</th>\n",
              "      <th>f744</th>\n",
              "      <th>f745</th>\n",
              "      <th>f746</th>\n",
              "      <th>f747</th>\n",
              "      <th>f748</th>\n",
              "      <th>f749</th>\n",
              "      <th>f750</th>\n",
              "      <th>f751</th>\n",
              "      <th>f752</th>\n",
              "      <th>f753</th>\n",
              "      <th>f754</th>\n",
              "      <th>f755</th>\n",
              "      <th>f756</th>\n",
              "      <th>f757</th>\n",
              "      <th>f758</th>\n",
              "      <th>f759</th>\n",
              "      <th>f760</th>\n",
              "      <th>f761</th>\n",
              "      <th>f762</th>\n",
              "      <th>f763</th>\n",
              "      <th>f764</th>\n",
              "      <th>f765</th>\n",
              "      <th>f766</th>\n",
              "      <th>f767</th>\n",
              "      <th>f768</th>\n",
              "      <th>f769</th>\n",
              "      <th>f770</th>\n",
              "      <th>f771</th>\n",
              "      <th>f772</th>\n",
              "      <th>f773</th>\n",
              "      <th>f774</th>\n",
              "      <th>f775</th>\n",
              "      <th>f776</th>\n",
              "      <th>f777</th>\n",
              "      <th>f778</th>\n",
              "      <th>loss</th>\n",
              "    </tr>\n",
              "  </thead>\n",
              "  <tbody>\n",
              "    <tr>\n",
              "      <th>0</th>\n",
              "      <td>1</td>\n",
              "      <td>126</td>\n",
              "      <td>10</td>\n",
              "      <td>0.686842</td>\n",
              "      <td>1100</td>\n",
              "      <td>3</td>\n",
              "      <td>13699</td>\n",
              "      <td>7201.0</td>\n",
              "      <td>4949.0</td>\n",
              "      <td>126.75</td>\n",
              "      <td>126.03</td>\n",
              "      <td>7</td>\n",
              "      <td>0.7607</td>\n",
              "      <td>0.7542</td>\n",
              "      <td>612922</td>\n",
              "      <td>0.7236</td>\n",
              "      <td>0.7236</td>\n",
              "      <td>0.5171</td>\n",
              "      <td>0.7236</td>\n",
              "      <td>0.8476</td>\n",
              "      <td>0.7876</td>\n",
              "      <td>1.097851e+09</td>\n",
              "      <td>89</td>\n",
              "      <td>66</td>\n",
              "      <td>998046.0</td>\n",
              "      <td>89.0</td>\n",
              "      <td>89.0</td>\n",
              "      <td>89.00</td>\n",
              "      <td>89.00</td>\n",
              "      <td>89.0</td>\n",
              "      <td>0.9271</td>\n",
              "      <td>0</td>\n",
              "      <td>0</td>\n",
              "      <td>0</td>\n",
              "      <td>5</td>\n",
              "      <td>0</td>\n",
              "      <td>0</td>\n",
              "      <td>0.73180</td>\n",
              "      <td>0.72124</td>\n",
              "      <td>0.749280</td>\n",
              "      <td>...</td>\n",
              "      <td>-4.40</td>\n",
              "      <td>6</td>\n",
              "      <td>9.76</td>\n",
              "      <td>-21.82</td>\n",
              "      <td>49.18</td>\n",
              "      <td>1.0435</td>\n",
              "      <td>-0.9066</td>\n",
              "      <td>1.5883</td>\n",
              "      <td>3.4154</td>\n",
              "      <td>2.8283</td>\n",
              "      <td>2.3451</td>\n",
              "      <td>0.030594</td>\n",
              "      <td>1.7418</td>\n",
              "      <td>1.5271</td>\n",
              "      <td>0.8474</td>\n",
              "      <td>0.4715</td>\n",
              "      <td>0.028362</td>\n",
              "      <td>3.1611</td>\n",
              "      <td>2.5162</td>\n",
              "      <td>2.0037</td>\n",
              "      <td>0.019636</td>\n",
              "      <td>4.4352</td>\n",
              "      <td>4.2676</td>\n",
              "      <td>-0.1524</td>\n",
              "      <td>1</td>\n",
              "      <td>-0.40</td>\n",
              "      <td>-0.560</td>\n",
              "      <td>-0.440</td>\n",
              "      <td>-0.6280</td>\n",
              "      <td>-3.14</td>\n",
              "      <td>5</td>\n",
              "      <td>2.14</td>\n",
              "      <td>-1.54</td>\n",
              "      <td>1.18</td>\n",
              "      <td>0.1833</td>\n",
              "      <td>0.7873</td>\n",
              "      <td>1</td>\n",
              "      <td>0</td>\n",
              "      <td>5</td>\n",
              "      <td>0</td>\n",
              "    </tr>\n",
              "    <tr>\n",
              "      <th>1</th>\n",
              "      <td>2</td>\n",
              "      <td>121</td>\n",
              "      <td>10</td>\n",
              "      <td>0.782776</td>\n",
              "      <td>1100</td>\n",
              "      <td>3</td>\n",
              "      <td>84645</td>\n",
              "      <td>240.0</td>\n",
              "      <td>1625.0</td>\n",
              "      <td>123.52</td>\n",
              "      <td>121.35</td>\n",
              "      <td>7</td>\n",
              "      <td>0.6555</td>\n",
              "      <td>0.6555</td>\n",
              "      <td>245815</td>\n",
              "      <td>0.6341</td>\n",
              "      <td>0.6341</td>\n",
              "      <td>0.3909</td>\n",
              "      <td>0.6667</td>\n",
              "      <td>0.6903</td>\n",
              "      <td>0.6903</td>\n",
              "      <td>8.449459e+08</td>\n",
              "      <td>78</td>\n",
              "      <td>50</td>\n",
              "      <td>754416.0</td>\n",
              "      <td>78.0</td>\n",
              "      <td>78.0</td>\n",
              "      <td>78.00</td>\n",
              "      <td>78.00</td>\n",
              "      <td>78.0</td>\n",
              "      <td>0.8478</td>\n",
              "      <td>0</td>\n",
              "      <td>0</td>\n",
              "      <td>0</td>\n",
              "      <td>6</td>\n",
              "      <td>0</td>\n",
              "      <td>0</td>\n",
              "      <td>0.65705</td>\n",
              "      <td>0.64069</td>\n",
              "      <td>0.626200</td>\n",
              "      <td>...</td>\n",
              "      <td>0.35</td>\n",
              "      <td>7</td>\n",
              "      <td>51.73</td>\n",
              "      <td>-72.44</td>\n",
              "      <td>798.74</td>\n",
              "      <td>2.7180</td>\n",
              "      <td>-0.8294</td>\n",
              "      <td>1.0740</td>\n",
              "      <td>2.9194</td>\n",
              "      <td>2.1180</td>\n",
              "      <td>1.5666</td>\n",
              "      <td>0.120442</td>\n",
              "      <td>1.1963</td>\n",
              "      <td>1.0322</td>\n",
              "      <td>0.4843</td>\n",
              "      <td>0.2389</td>\n",
              "      <td>0.130160</td>\n",
              "      <td>2.7659</td>\n",
              "      <td>1.9523</td>\n",
              "      <td>1.4059</td>\n",
              "      <td>0.115277</td>\n",
              "      <td>3.2763</td>\n",
              "      <td>2.7962</td>\n",
              "      <td>-0.3097</td>\n",
              "      <td>1</td>\n",
              "      <td>-0.17</td>\n",
              "      <td>-0.275</td>\n",
              "      <td>-0.203</td>\n",
              "      <td>-0.2300</td>\n",
              "      <td>-1.38</td>\n",
              "      <td>6</td>\n",
              "      <td>0.54</td>\n",
              "      <td>-0.24</td>\n",
              "      <td>0.13</td>\n",
              "      <td>0.1926</td>\n",
              "      <td>-0.6787</td>\n",
              "      <td>1</td>\n",
              "      <td>0</td>\n",
              "      <td>5</td>\n",
              "      <td>0</td>\n",
              "    </tr>\n",
              "    <tr>\n",
              "      <th>2</th>\n",
              "      <td>3</td>\n",
              "      <td>126</td>\n",
              "      <td>10</td>\n",
              "      <td>0.500080</td>\n",
              "      <td>1100</td>\n",
              "      <td>3</td>\n",
              "      <td>83607</td>\n",
              "      <td>1800.0</td>\n",
              "      <td>1527.0</td>\n",
              "      <td>127.76</td>\n",
              "      <td>126.49</td>\n",
              "      <td>7</td>\n",
              "      <td>0.7542</td>\n",
              "      <td>0.7542</td>\n",
              "      <td>1385872</td>\n",
              "      <td>0.7542</td>\n",
              "      <td>0.7542</td>\n",
              "      <td>0.5508</td>\n",
              "      <td>0.7542</td>\n",
              "      <td>0.8091</td>\n",
              "      <td>0.7807</td>\n",
              "      <td>1.308478e+09</td>\n",
              "      <td>89</td>\n",
              "      <td>54</td>\n",
              "      <td>1037651.0</td>\n",
              "      <td>89.0</td>\n",
              "      <td>89.0</td>\n",
              "      <td>100.43</td>\n",
              "      <td>94.37</td>\n",
              "      <td>89.0</td>\n",
              "      <td>0.9175</td>\n",
              "      <td>0</td>\n",
              "      <td>0</td>\n",
              "      <td>0</td>\n",
              "      <td>13</td>\n",
              "      <td>0</td>\n",
              "      <td>0</td>\n",
              "      <td>0.74710</td>\n",
              "      <td>0.75878</td>\n",
              "      <td>0.654685</td>\n",
              "      <td>...</td>\n",
              "      <td>-6.35</td>\n",
              "      <td>14</td>\n",
              "      <td>56.62</td>\n",
              "      <td>-79.48</td>\n",
              "      <td>621.97</td>\n",
              "      <td>1.9592</td>\n",
              "      <td>-0.3632</td>\n",
              "      <td>3.2969</td>\n",
              "      <td>7.2072</td>\n",
              "      <td>5.7062</td>\n",
              "      <td>4.5627</td>\n",
              "      <td>0.226336</td>\n",
              "      <td>3.3277</td>\n",
              "      <td>3.4166</td>\n",
              "      <td>1.8321</td>\n",
              "      <td>0.9979</td>\n",
              "      <td>0.103307</td>\n",
              "      <td>6.8623</td>\n",
              "      <td>5.2963</td>\n",
              "      <td>4.1282</td>\n",
              "      <td>0.219729</td>\n",
              "      <td>8.1381</td>\n",
              "      <td>7.3269</td>\n",
              "      <td>-0.1909</td>\n",
              "      <td>1</td>\n",
              "      <td>-0.58</td>\n",
              "      <td>-0.540</td>\n",
              "      <td>-0.572</td>\n",
              "      <td>-0.3985</td>\n",
              "      <td>-5.18</td>\n",
              "      <td>13</td>\n",
              "      <td>2.89</td>\n",
              "      <td>-1.73</td>\n",
              "      <td>1.04</td>\n",
              "      <td>0.2521</td>\n",
              "      <td>0.7258</td>\n",
              "      <td>1</td>\n",
              "      <td>0</td>\n",
              "      <td>5</td>\n",
              "      <td>0</td>\n",
              "    </tr>\n",
              "    <tr>\n",
              "      <th>3</th>\n",
              "      <td>4</td>\n",
              "      <td>134</td>\n",
              "      <td>10</td>\n",
              "      <td>0.439874</td>\n",
              "      <td>1100</td>\n",
              "      <td>3</td>\n",
              "      <td>82642</td>\n",
              "      <td>7542.0</td>\n",
              "      <td>1730.0</td>\n",
              "      <td>132.94</td>\n",
              "      <td>133.58</td>\n",
              "      <td>7</td>\n",
              "      <td>0.8017</td>\n",
              "      <td>0.7881</td>\n",
              "      <td>704687</td>\n",
              "      <td>0.7881</td>\n",
              "      <td>0.7881</td>\n",
              "      <td>0.5923</td>\n",
              "      <td>0.7881</td>\n",
              "      <td>0.8230</td>\n",
              "      <td>0.8158</td>\n",
              "      <td>1.472752e+09</td>\n",
              "      <td>93</td>\n",
              "      <td>55</td>\n",
              "      <td>1115721.0</td>\n",
              "      <td>93.0</td>\n",
              "      <td>93.0</td>\n",
              "      <td>114.63</td>\n",
              "      <td>102.92</td>\n",
              "      <td>93.0</td>\n",
              "      <td>0.9688</td>\n",
              "      <td>0</td>\n",
              "      <td>0</td>\n",
              "      <td>0</td>\n",
              "      <td>4</td>\n",
              "      <td>0</td>\n",
              "      <td>0</td>\n",
              "      <td>0.77405</td>\n",
              "      <td>0.78929</td>\n",
              "      <td>0.750675</td>\n",
              "      <td>...</td>\n",
              "      <td>3.75</td>\n",
              "      <td>5</td>\n",
              "      <td>36.31</td>\n",
              "      <td>18.15</td>\n",
              "      <td>429.81</td>\n",
              "      <td>2.5883</td>\n",
              "      <td>-0.8812</td>\n",
              "      <td>1.2950</td>\n",
              "      <td>2.5777</td>\n",
              "      <td>2.0830</td>\n",
              "      <td>1.6899</td>\n",
              "      <td>0.054630</td>\n",
              "      <td>1.3748</td>\n",
              "      <td>1.3421</td>\n",
              "      <td>0.7982</td>\n",
              "      <td>0.4810</td>\n",
              "      <td>0.081205</td>\n",
              "      <td>2.5571</td>\n",
              "      <td>2.0593</td>\n",
              "      <td>1.6653</td>\n",
              "      <td>0.056470</td>\n",
              "      <td>3.2516</td>\n",
              "      <td>3.0631</td>\n",
              "      <td>-0.1770</td>\n",
              "      <td>1</td>\n",
              "      <td>-0.75</td>\n",
              "      <td>-0.635</td>\n",
              "      <td>-0.745</td>\n",
              "      <td>-0.5100</td>\n",
              "      <td>-2.04</td>\n",
              "      <td>4</td>\n",
              "      <td>1.29</td>\n",
              "      <td>-0.89</td>\n",
              "      <td>0.66</td>\n",
              "      <td>0.2498</td>\n",
              "      <td>0.7119</td>\n",
              "      <td>1</td>\n",
              "      <td>0</td>\n",
              "      <td>5</td>\n",
              "      <td>0</td>\n",
              "    </tr>\n",
              "    <tr>\n",
              "      <th>4</th>\n",
              "      <td>5</td>\n",
              "      <td>109</td>\n",
              "      <td>9</td>\n",
              "      <td>0.502749</td>\n",
              "      <td>2900</td>\n",
              "      <td>4</td>\n",
              "      <td>79124</td>\n",
              "      <td>89.0</td>\n",
              "      <td>491.0</td>\n",
              "      <td>122.72</td>\n",
              "      <td>112.77</td>\n",
              "      <td>6</td>\n",
              "      <td>0.5263</td>\n",
              "      <td>0.5263</td>\n",
              "      <td>51985</td>\n",
              "      <td>0.5263</td>\n",
              "      <td>0.5263</td>\n",
              "      <td>0.3044</td>\n",
              "      <td>0.5405</td>\n",
              "      <td>0.5556</td>\n",
              "      <td>0.5455</td>\n",
              "      <td>1.442916e+09</td>\n",
              "      <td>60</td>\n",
              "      <td>21</td>\n",
              "      <td>536400.0</td>\n",
              "      <td>60.0</td>\n",
              "      <td>60.0</td>\n",
              "      <td>60.00</td>\n",
              "      <td>60.00</td>\n",
              "      <td>60.0</td>\n",
              "      <td>0.8451</td>\n",
              "      <td>0</td>\n",
              "      <td>0</td>\n",
              "      <td>0</td>\n",
              "      <td>26</td>\n",
              "      <td>0</td>\n",
              "      <td>0</td>\n",
              "      <td>0.60315</td>\n",
              "      <td>0.53367</td>\n",
              "      <td>0.696150</td>\n",
              "      <td>...</td>\n",
              "      <td>11.45</td>\n",
              "      <td>27</td>\n",
              "      <td>2206.14</td>\n",
              "      <td>-10559.05</td>\n",
              "      <td>708436.49</td>\n",
              "      <td>9.0293</td>\n",
              "      <td>-0.8760</td>\n",
              "      <td>6.3852</td>\n",
              "      <td>17.2599</td>\n",
              "      <td>14.2795</td>\n",
              "      <td>11.9179</td>\n",
              "      <td>0.085330</td>\n",
              "      <td>7.2175</td>\n",
              "      <td>6.2262</td>\n",
              "      <td>3.1446</td>\n",
              "      <td>1.6149</td>\n",
              "      <td>0.074286</td>\n",
              "      <td>15.9080</td>\n",
              "      <td>12.5688</td>\n",
              "      <td>9.9844</td>\n",
              "      <td>0.067540</td>\n",
              "      <td>17.5561</td>\n",
              "      <td>15.6079</td>\n",
              "      <td>-0.4444</td>\n",
              "      <td>1</td>\n",
              "      <td>-0.18</td>\n",
              "      <td>-0.280</td>\n",
              "      <td>-0.182</td>\n",
              "      <td>-0.4277</td>\n",
              "      <td>-11.12</td>\n",
              "      <td>26</td>\n",
              "      <td>6.11</td>\n",
              "      <td>-3.82</td>\n",
              "      <td>2.51</td>\n",
              "      <td>0.2282</td>\n",
              "      <td>-0.5399</td>\n",
              "      <td>0</td>\n",
              "      <td>0</td>\n",
              "      <td>5</td>\n",
              "      <td>0</td>\n",
              "    </tr>\n",
              "  </tbody>\n",
              "</table>\n",
              "<p>5 rows × 771 columns</p>\n",
              "</div>"
            ],
            "text/plain": [
              "   id   f1  f2        f3    f4  f5  ...    f774    f775  f776  f777  f778  loss\n",
              "0   1  126  10  0.686842  1100   3  ...  0.1833  0.7873     1     0     5     0\n",
              "1   2  121  10  0.782776  1100   3  ...  0.1926 -0.6787     1     0     5     0\n",
              "2   3  126  10  0.500080  1100   3  ...  0.2521  0.7258     1     0     5     0\n",
              "3   4  134  10  0.439874  1100   3  ...  0.2498  0.7119     1     0     5     0\n",
              "4   5  109   9  0.502749  2900   4  ...  0.2282 -0.5399     0     0     5     0\n",
              "\n",
              "[5 rows x 771 columns]"
            ]
          },
          "metadata": {},
          "execution_count": 4
        }
      ]
    },
    {
      "cell_type": "markdown",
      "metadata": {
        "id": "1gzwZNtTumVL"
      },
      "source": [
        "Посмотрим на целевую переменную. Как видно, очень много (около **90%**) данных -- значения \"0\".\n"
      ]
    },
    {
      "cell_type": "code",
      "metadata": {
        "colab": {
          "base_uri": "https://localhost:8080/"
        },
        "id": "rRTx0LqChe85",
        "outputId": "6b78dfc8-2801-41bc-ddf3-cbb946514312"
      },
      "source": [
        "df.loss.value_counts().nlargest(15)"
      ],
      "execution_count": null,
      "outputs": [
        {
          "output_type": "execute_result",
          "data": {
            "text/plain": [
              "0     95688\n",
              "2      1297\n",
              "1      1145\n",
              "3      1086\n",
              "4      1038\n",
              "5       685\n",
              "6       573\n",
              "7       565\n",
              "8       487\n",
              "10      316\n",
              "9       312\n",
              "11      234\n",
              "12      211\n",
              "13      188\n",
              "14      157\n",
              "Name: loss, dtype: int64"
            ]
          },
          "metadata": {},
          "execution_count": 5
        }
      ]
    },
    {
      "cell_type": "code",
      "metadata": {
        "colab": {
          "base_uri": "https://localhost:8080/",
          "height": 281
        },
        "id": "ja06tdxsupBN",
        "outputId": "44fb66f9-9ce5-46cf-881c-014ceb7d4287"
      },
      "source": [
        "plt.rcParams[\"figure.figsize\"] = (15,4)\n",
        "fig, (ax1, ax2) = plt.subplots(1, 2)\n",
        "\n",
        "ax1.hist(df.loss,bins=100)\n",
        "ax1.title.set_text('loss: all values')\n",
        "ax2.hist(df.loss[df.loss!=0],bins=100);\n",
        "ax2.title.set_text('loss: values except 0')"
      ],
      "execution_count": null,
      "outputs": [
        {
          "output_type": "display_data",
          "data": {
            "image/png": "[encoded data removed]",
            "text/plain": [
              "<Figure size 1080x288 with 2 Axes>"
            ]
          },
          "metadata": {
            "needs_background": "light"
          }
        }
      ]
    },
    {
      "cell_type": "markdown",
      "metadata": {
        "id": "XLl21FmFsweT"
      },
      "source": [
        "\n",
        "Получается несбалансированный датасет. Хотя в очень многих задачах бинарной классификации (fraud detection и т.д.) похожие ситуации, когда один класс преобладает над вторым.\n",
        "\n",
        "С этим можно справиться с помощью -- среди прочих методов -- undersampling`ом: убрать записи из самого многочисленного класса, чтобы свести соотношение двух классов поближе к 1:1.\n",
        "\n",
        "Для начала попробуем проделать классификацию на изначальных данных"
      ]
    },
    {
      "cell_type": "markdown",
      "metadata": {
        "id": "JY9psUiz21Xg"
      },
      "source": [
        "# Missing values"
      ]
    },
    {
      "cell_type": "markdown",
      "metadata": {
        "id": "0eH6nWq1uCgz"
      },
      "source": [
        "Также еще одна проблема -- пропущенные значения.\n",
        "В основном, есть два способа борьбы с подобным ненастьем: удалить или дополнить.\n",
        "\n",
        "Мы либо удаляем строки\\столбцы с пропущенными данными, либо заменяем пропущенные значения средним, модой и т.д.\n",
        "\n",
        "Посмотрим на наши пропуски, около 18%:"
      ]
    },
    {
      "cell_type": "code",
      "metadata": {
        "colab": {
          "base_uri": "https://localhost:8080/"
        },
        "id": "4Y4SUqaP0AM7",
        "outputId": "af5e9205-0d15-4c5b-8125-095beb0c1efa"
      },
      "source": [
        "df.isna().sum().nlargest(15)"
      ],
      "execution_count": null,
      "outputs": [
        {
          "output_type": "execute_result",
          "data": {
            "text/plain": [
              "f662    18833\n",
              "f663    18833\n",
              "f159    18736\n",
              "f160    18736\n",
              "f169    18417\n",
              "f170    18417\n",
              "f618    18407\n",
              "f619    18407\n",
              "f330    18067\n",
              "f331    18067\n",
              "f179    17162\n",
              "f180    17162\n",
              "f422    14235\n",
              "f653    13205\n",
              "f189    12234\n",
              "dtype: int64"
            ]
          },
          "metadata": {},
          "execution_count": 7
        }
      ]
    },
    {
      "cell_type": "code",
      "metadata": {
        "colab": {
          "base_uri": "https://localhost:8080/",
          "height": 283
        },
        "id": "H0wHDeo25ln2",
        "outputId": "9dacff02-1e60-4be1-a2c9-e55072d93b69"
      },
      "source": [
        "clm_null = df.isna().sum()[df.isna().sum()>0]\n",
        "plt.plot(np.sort(clm_null)[::-1])"
      ],
      "execution_count": null,
      "outputs": [
        {
          "output_type": "execute_result",
          "data": {
            "text/plain": [
              "[<matplotlib.lines.Line2D at 0x7f492eb2cb50>]"
            ]
          },
          "metadata": {},
          "execution_count": 8
        },
        {
          "output_type": "display_data",
          "data": {
            "image/png": "[encoded data removed]",
            "text/plain": [
              "<Figure size 1080x288 with 1 Axes>"
            ]
          },
          "metadata": {
            "needs_background": "light"
          }
        }
      ]
    },
    {
      "cell_type": "markdown",
      "metadata": {
        "id": "rXao-Wb43jl1"
      },
      "source": [
        "Перед тем, как заменять значения, нужно посмотреть, если ли у нас категориальные величины. Предположим, что там меньше 6 категорий."
      ]
    },
    {
      "cell_type": "code",
      "metadata": {
        "colab": {
          "base_uri": "https://localhost:8080/"
        },
        "id": "a8HN5RHr4E1W",
        "outputId": "ac8bec18-226f-408a-b521-b1812bd9a626"
      },
      "source": [
        "df_null = df.loc[:,clm_null.index]\n",
        "df_null.nunique()[df_null.nunique()<=5]"
      ],
      "execution_count": null,
      "outputs": [
        {
          "output_type": "execute_result",
          "data": {
            "text/plain": [
              "f678    1\n",
              "dtype: int64"
            ]
          },
          "metadata": {},
          "execution_count": 9
        }
      ]
    },
    {
      "cell_type": "markdown",
      "metadata": {
        "id": "b0wRbgjK7CBL"
      },
      "source": [
        "Только константа. Она не пострадает при нашем преобразовании + позже мы уберем признаки с одним и тем же значением"
      ]
    },
    {
      "cell_type": "markdown",
      "metadata": {
        "id": "EPfHRjfZ2ui1"
      },
      "source": [
        "Заменим пропущенные данные медианой"
      ]
    },
    {
      "cell_type": "code",
      "metadata": {
        "colab": {
          "base_uri": "https://localhost:8080/"
        },
        "id": "INj-0ZUsz1Es",
        "outputId": "da5de25d-3704-4bd7-fef7-a71850cd42d1"
      },
      "source": [
        "df.fillna(df.median(), inplace=True)\n",
        "df.shape"
      ],
      "execution_count": null,
      "outputs": [
        {
          "output_type": "execute_result",
          "data": {
            "text/plain": [
              "(105471, 771)"
            ]
          },
          "metadata": {},
          "execution_count": 10
        }
      ]
    },
    {
      "cell_type": "code",
      "metadata": {
        "colab": {
          "base_uri": "https://localhost:8080/"
        },
        "id": "wRAuyK8U3ESU",
        "outputId": "705540c0-022d-4abe-e2d8-ae8384d8f6a6"
      },
      "source": [
        "df.isna().sum().nlargest(5)"
      ],
      "execution_count": null,
      "outputs": [
        {
          "output_type": "execute_result",
          "data": {
            "text/plain": [
              "f137    177\n",
              "id        0\n",
              "f1        0\n",
              "f2        0\n",
              "f3        0\n",
              "dtype: int64"
            ]
          },
          "metadata": {},
          "execution_count": 11
        }
      ]
    },
    {
      "cell_type": "markdown",
      "metadata": {
        "id": "-UFwmdFq3Th1"
      },
      "source": [
        "Остался только один признак с крайне малым кол-м пропущенных значений. Просто удалим строки"
      ]
    },
    {
      "cell_type": "code",
      "metadata": {
        "colab": {
          "base_uri": "https://localhost:8080/"
        },
        "id": "jaqLrzyD3WF0",
        "outputId": "a481ea46-6252-4984-d098-f6fed31c1703"
      },
      "source": [
        "df.dropna(axis=0,inplace=True)\n",
        "df.shape"
      ],
      "execution_count": null,
      "outputs": [
        {
          "output_type": "execute_result",
          "data": {
            "text/plain": [
              "(105294, 771)"
            ]
          },
          "metadata": {},
          "execution_count": 12
        }
      ]
    },
    {
      "cell_type": "markdown",
      "metadata": {
        "id": "5uqhz1y831Q3"
      },
      "source": [
        "От 105 471 строк осталось 105 294. Ничего не пострадало"
      ]
    },
    {
      "cell_type": "markdown",
      "metadata": {
        "id": "YvjhKLCv8zp8"
      },
      "source": [
        "Теперь наведем порядок в оставшихся данных\n",
        "\n",
        "Удалим все признаки с одинаковыми значениями, так как они погоды нам не сделают"
      ]
    },
    {
      "cell_type": "code",
      "metadata": {
        "colab": {
          "base_uri": "https://localhost:8080/"
        },
        "id": "2EiOie3pwpdD",
        "outputId": "ad21280a-51cf-420f-b2fc-f880e2dba7bd"
      },
      "source": [
        "const_clm = df.columns[df.nunique() <= 1]\n",
        "const_clm"
      ],
      "execution_count": null,
      "outputs": [
        {
          "output_type": "execute_result",
          "data": {
            "text/plain": [
              "Index(['f33', 'f34', 'f35', 'f37', 'f38', 'f678', 'f700', 'f701', 'f702',\n",
              "       'f736', 'f764'],\n",
              "      dtype='object')"
            ]
          },
          "metadata": {},
          "execution_count": 13
        }
      ]
    },
    {
      "cell_type": "code",
      "metadata": {
        "colab": {
          "base_uri": "https://localhost:8080/"
        },
        "id": "og_Wf8PwxgAb",
        "outputId": "dee09816-b773-4898-ac68-c2329af7c81f"
      },
      "source": [
        "df.drop(const_clm,axis=1,inplace=True)\n",
        "df.shape"
      ],
      "execution_count": null,
      "outputs": [
        {
          "output_type": "execute_result",
          "data": {
            "text/plain": [
              "(105294, 760)"
            ]
          },
          "metadata": {},
          "execution_count": 14
        }
      ]
    },
    {
      "cell_type": "markdown",
      "metadata": {
        "id": "T2RMWUy6GfJY"
      },
      "source": [
        "В колонках типа object с числами были записаны строки NA. Избавимся от них"
      ]
    },
    {
      "cell_type": "code",
      "metadata": {
        "id": "JnPAO6TvMhci"
      },
      "source": [
        "idx = df['f137'][df['f137']=='NA'].index"
      ],
      "execution_count": null,
      "outputs": []
    },
    {
      "cell_type": "code",
      "metadata": {
        "colab": {
          "base_uri": "https://localhost:8080/"
        },
        "id": "VmJYmVPUPtIK",
        "outputId": "fd8d39ef-a080-4a4d-8b41-e4165702bdc5"
      },
      "source": [
        "df['f137'].loc[idx] = '0'"
      ],
      "execution_count": null,
      "outputs": [
        {
          "output_type": "stream",
          "name": "stderr",
          "text": [
            "/usr/local/lib/python3.7/dist-packages/pandas/core/indexing.py:670: SettingWithCopyWarning: \n",
            "A value is trying to be set on a copy of a slice from a DataFrame\n",
            "\n",
            "See the caveats in the documentation: https://pandas.pydata.org/pandas-docs/stable/user_guide/indexing.html#returning-a-view-versus-a-copy\n",
            "  iloc._setitem_with_indexer(indexer, value)\n"
          ]
        }
      ]
    },
    {
      "cell_type": "code",
      "metadata": {
        "colab": {
          "base_uri": "https://localhost:8080/"
        },
        "id": "LWWKZjl1QLhR",
        "outputId": "aba4e477-37eb-474e-fef6-e7296d0b5ea1"
      },
      "source": [
        "df['f137'].loc[idx]"
      ],
      "execution_count": null,
      "outputs": [
        {
          "output_type": "execute_result",
          "data": {
            "text/plain": [
              "83843    0\n",
              "91200    0\n",
              "91850    0\n",
              "91851    0\n",
              "91912    0\n",
              "Name: f137, dtype: object"
            ]
          },
          "metadata": {},
          "execution_count": 49
        }
      ]
    },
    {
      "cell_type": "markdown",
      "metadata": {
        "id": "ZcKGiSQirZMs"
      },
      "source": [
        "# Target"
      ]
    },
    {
      "cell_type": "markdown",
      "metadata": {
        "id": "3TU1GUiJ78ym"
      },
      "source": [
        "Так как у нас задача классификации, то преобразуем целевую переменную"
      ]
    },
    {
      "cell_type": "code",
      "metadata": {
        "colab": {
          "base_uri": "https://localhost:8080/"
        },
        "id": "Q6EyrVc1rYgS",
        "outputId": "5bf8d903-c0e4-4b03-863f-0ffe04a5e0ea"
      },
      "source": [
        "df.loss.value_counts()"
      ],
      "execution_count": null,
      "outputs": [
        {
          "output_type": "execute_result",
          "data": {
            "text/plain": [
              "0     95517\n",
              "2      1297\n",
              "1      1145\n",
              "3      1085\n",
              "4      1038\n",
              "      ...  \n",
              "92        1\n",
              "77        1\n",
              "85        1\n",
              "80        1\n",
              "63        1\n",
              "Name: loss, Length: 89, dtype: int64"
            ]
          },
          "metadata": {},
          "execution_count": 50
        }
      ]
    },
    {
      "cell_type": "markdown",
      "metadata": {
        "id": "YiLIfDQ38WSf"
      },
      "source": [
        "Добавим признак **loan_status**, который показывает, был ли дефолт по кредиту или нет."
      ]
    },
    {
      "cell_type": "code",
      "metadata": {
        "colab": {
          "base_uri": "https://localhost:8080/",
          "height": 160
        },
        "id": "im3j-TtArEG6",
        "outputId": "7c26e248-422b-4009-f492-0cb8e249983b"
      },
      "source": [
        "df['loan_status'] = np.where(df['loss'] > 0, 1, 0)\n",
        "df.head(2)"
      ],
      "execution_count": null,
      "outputs": [
        {
          "output_type": "execute_result",
          "data": {
            "text/html": [
              "<div>\n",
              "<style scoped>\n",
              "    .dataframe tbody tr th:only-of-type {\n",
              "        vertical-align: middle;\n",
              "    }\n",
              "\n",
              "    .dataframe tbody tr th {\n",
              "        vertical-align: top;\n",
              "    }\n",
              "\n",
              "    .dataframe thead th {\n",
              "        text-align: right;\n",
              "    }\n",
              "</style>\n",
              "<table border=\"1\" class=\"dataframe\">\n",
              "  <thead>\n",
              "    <tr style=\"text-align: right;\">\n",
              "      <th></th>\n",
              "      <th>id</th>\n",
              "      <th>f1</th>\n",
              "      <th>f2</th>\n",
              "      <th>f3</th>\n",
              "      <th>f4</th>\n",
              "      <th>f5</th>\n",
              "      <th>f6</th>\n",
              "      <th>f7</th>\n",
              "      <th>f8</th>\n",
              "      <th>f9</th>\n",
              "      <th>f10</th>\n",
              "      <th>f13</th>\n",
              "      <th>f14</th>\n",
              "      <th>f15</th>\n",
              "      <th>f16</th>\n",
              "      <th>f17</th>\n",
              "      <th>f18</th>\n",
              "      <th>f19</th>\n",
              "      <th>f20</th>\n",
              "      <th>f21</th>\n",
              "      <th>f22</th>\n",
              "      <th>f23</th>\n",
              "      <th>f24</th>\n",
              "      <th>f25</th>\n",
              "      <th>f26</th>\n",
              "      <th>f27</th>\n",
              "      <th>f28</th>\n",
              "      <th>f29</th>\n",
              "      <th>f30</th>\n",
              "      <th>f31</th>\n",
              "      <th>f32</th>\n",
              "      <th>f36</th>\n",
              "      <th>f39</th>\n",
              "      <th>f40</th>\n",
              "      <th>f41</th>\n",
              "      <th>f42</th>\n",
              "      <th>f43</th>\n",
              "      <th>f44</th>\n",
              "      <th>f45</th>\n",
              "      <th>f46</th>\n",
              "      <th>...</th>\n",
              "      <th>f740</th>\n",
              "      <th>f741</th>\n",
              "      <th>f742</th>\n",
              "      <th>f743</th>\n",
              "      <th>f744</th>\n",
              "      <th>f745</th>\n",
              "      <th>f746</th>\n",
              "      <th>f747</th>\n",
              "      <th>f748</th>\n",
              "      <th>f749</th>\n",
              "      <th>f750</th>\n",
              "      <th>f751</th>\n",
              "      <th>f752</th>\n",
              "      <th>f753</th>\n",
              "      <th>f754</th>\n",
              "      <th>f755</th>\n",
              "      <th>f756</th>\n",
              "      <th>f757</th>\n",
              "      <th>f758</th>\n",
              "      <th>f759</th>\n",
              "      <th>f760</th>\n",
              "      <th>f761</th>\n",
              "      <th>f762</th>\n",
              "      <th>f763</th>\n",
              "      <th>f765</th>\n",
              "      <th>f766</th>\n",
              "      <th>f767</th>\n",
              "      <th>f768</th>\n",
              "      <th>f769</th>\n",
              "      <th>f770</th>\n",
              "      <th>f771</th>\n",
              "      <th>f772</th>\n",
              "      <th>f773</th>\n",
              "      <th>f774</th>\n",
              "      <th>f775</th>\n",
              "      <th>f776</th>\n",
              "      <th>f777</th>\n",
              "      <th>f778</th>\n",
              "      <th>loss</th>\n",
              "      <th>loan_status</th>\n",
              "    </tr>\n",
              "  </thead>\n",
              "  <tbody>\n",
              "    <tr>\n",
              "      <th>0</th>\n",
              "      <td>1</td>\n",
              "      <td>126</td>\n",
              "      <td>10</td>\n",
              "      <td>0.686842</td>\n",
              "      <td>1100</td>\n",
              "      <td>3</td>\n",
              "      <td>13699</td>\n",
              "      <td>7201.0</td>\n",
              "      <td>4949.0</td>\n",
              "      <td>126.75</td>\n",
              "      <td>126.03</td>\n",
              "      <td>7</td>\n",
              "      <td>0.7607</td>\n",
              "      <td>0.7542</td>\n",
              "      <td>612922</td>\n",
              "      <td>0.7236</td>\n",
              "      <td>0.7236</td>\n",
              "      <td>0.5171</td>\n",
              "      <td>0.7236</td>\n",
              "      <td>0.8476</td>\n",
              "      <td>0.7876</td>\n",
              "      <td>1.097851e+09</td>\n",
              "      <td>89</td>\n",
              "      <td>66</td>\n",
              "      <td>998046.0</td>\n",
              "      <td>89.0</td>\n",
              "      <td>89.0</td>\n",
              "      <td>89.0</td>\n",
              "      <td>89.0</td>\n",
              "      <td>89.0</td>\n",
              "      <td>0.9271</td>\n",
              "      <td>5</td>\n",
              "      <td>0.73180</td>\n",
              "      <td>0.72124</td>\n",
              "      <td>0.74928</td>\n",
              "      <td>5.0</td>\n",
              "      <td>0.026826</td>\n",
              "      <td>1.037424</td>\n",
              "      <td>0.83380</td>\n",
              "      <td>0.84284</td>\n",
              "      <td>...</td>\n",
              "      <td>-4.40</td>\n",
              "      <td>6</td>\n",
              "      <td>9.76</td>\n",
              "      <td>-21.82</td>\n",
              "      <td>49.18</td>\n",
              "      <td>1.0435</td>\n",
              "      <td>-0.9066</td>\n",
              "      <td>1.5883</td>\n",
              "      <td>3.4154</td>\n",
              "      <td>2.8283</td>\n",
              "      <td>2.3451</td>\n",
              "      <td>0.030594</td>\n",
              "      <td>1.7418</td>\n",
              "      <td>1.5271</td>\n",
              "      <td>0.8474</td>\n",
              "      <td>0.4715</td>\n",
              "      <td>0.028362</td>\n",
              "      <td>3.1611</td>\n",
              "      <td>2.5162</td>\n",
              "      <td>2.0037</td>\n",
              "      <td>0.019636</td>\n",
              "      <td>4.4352</td>\n",
              "      <td>4.2676</td>\n",
              "      <td>-0.1524</td>\n",
              "      <td>-0.40</td>\n",
              "      <td>-0.560</td>\n",
              "      <td>-0.440</td>\n",
              "      <td>-0.628</td>\n",
              "      <td>-3.14</td>\n",
              "      <td>5</td>\n",
              "      <td>2.14</td>\n",
              "      <td>-1.54</td>\n",
              "      <td>1.18</td>\n",
              "      <td>0.1833</td>\n",
              "      <td>0.7873</td>\n",
              "      <td>1</td>\n",
              "      <td>0</td>\n",
              "      <td>5</td>\n",
              "      <td>0</td>\n",
              "      <td>0</td>\n",
              "    </tr>\n",
              "    <tr>\n",
              "      <th>1</th>\n",
              "      <td>2</td>\n",
              "      <td>121</td>\n",
              "      <td>10</td>\n",
              "      <td>0.782776</td>\n",
              "      <td>1100</td>\n",
              "      <td>3</td>\n",
              "      <td>84645</td>\n",
              "      <td>240.0</td>\n",
              "      <td>1625.0</td>\n",
              "      <td>123.52</td>\n",
              "      <td>121.35</td>\n",
              "      <td>7</td>\n",
              "      <td>0.6555</td>\n",
              "      <td>0.6555</td>\n",
              "      <td>245815</td>\n",
              "      <td>0.6341</td>\n",
              "      <td>0.6341</td>\n",
              "      <td>0.3909</td>\n",
              "      <td>0.6667</td>\n",
              "      <td>0.6903</td>\n",
              "      <td>0.6903</td>\n",
              "      <td>8.449459e+08</td>\n",
              "      <td>78</td>\n",
              "      <td>50</td>\n",
              "      <td>754416.0</td>\n",
              "      <td>78.0</td>\n",
              "      <td>78.0</td>\n",
              "      <td>78.0</td>\n",
              "      <td>78.0</td>\n",
              "      <td>78.0</td>\n",
              "      <td>0.8478</td>\n",
              "      <td>6</td>\n",
              "      <td>0.65705</td>\n",
              "      <td>0.64069</td>\n",
              "      <td>0.62620</td>\n",
              "      <td>6.0</td>\n",
              "      <td>0.107658</td>\n",
              "      <td>-0.915138</td>\n",
              "      <td>0.72515</td>\n",
              "      <td>0.70127</td>\n",
              "      <td>...</td>\n",
              "      <td>0.35</td>\n",
              "      <td>7</td>\n",
              "      <td>51.73</td>\n",
              "      <td>-72.44</td>\n",
              "      <td>798.74</td>\n",
              "      <td>2.7180</td>\n",
              "      <td>-0.8294</td>\n",
              "      <td>1.0740</td>\n",
              "      <td>2.9194</td>\n",
              "      <td>2.1180</td>\n",
              "      <td>1.5666</td>\n",
              "      <td>0.120442</td>\n",
              "      <td>1.1963</td>\n",
              "      <td>1.0322</td>\n",
              "      <td>0.4843</td>\n",
              "      <td>0.2389</td>\n",
              "      <td>0.130160</td>\n",
              "      <td>2.7659</td>\n",
              "      <td>1.9523</td>\n",
              "      <td>1.4059</td>\n",
              "      <td>0.115277</td>\n",
              "      <td>3.2763</td>\n",
              "      <td>2.7962</td>\n",
              "      <td>-0.3097</td>\n",
              "      <td>-0.17</td>\n",
              "      <td>-0.275</td>\n",
              "      <td>-0.203</td>\n",
              "      <td>-0.230</td>\n",
              "      <td>-1.38</td>\n",
              "      <td>6</td>\n",
              "      <td>0.54</td>\n",
              "      <td>-0.24</td>\n",
              "      <td>0.13</td>\n",
              "      <td>0.1926</td>\n",
              "      <td>-0.6787</td>\n",
              "      <td>1</td>\n",
              "      <td>0</td>\n",
              "      <td>5</td>\n",
              "      <td>0</td>\n",
              "      <td>0</td>\n",
              "    </tr>\n",
              "  </tbody>\n",
              "</table>\n",
              "<p>2 rows × 761 columns</p>\n",
              "</div>"
            ],
            "text/plain": [
              "   id   f1  f2        f3    f4  f5  ...    f775  f776  f777  f778  loss  loan_status\n",
              "0   1  126  10  0.686842  1100   3  ...  0.7873     1     0     5     0            0\n",
              "1   2  121  10  0.782776  1100   3  ... -0.6787     1     0     5     0            0\n",
              "\n",
              "[2 rows x 761 columns]"
            ]
          },
          "metadata": {},
          "execution_count": 51
        }
      ]
    },
    {
      "cell_type": "code",
      "metadata": {
        "colab": {
          "base_uri": "https://localhost:8080/",
          "height": 287
        },
        "id": "nVVmh2AjruOj",
        "outputId": "71acea4f-c58d-4cf0-e521-5c4228bc8ec0"
      },
      "source": [
        "plt.rcParams[\"figure.figsize\"] = (5,4)\n",
        "df.loan_status.hist()"
      ],
      "execution_count": null,
      "outputs": [
        {
          "output_type": "execute_result",
          "data": {
            "text/plain": [
              "<matplotlib.axes._subplots.AxesSubplot at 0x7f492a7de490>"
            ]
          },
          "metadata": {},
          "execution_count": 52
        },
        {
          "output_type": "display_data",
          "data": {
            "image/png": "[encoded data removed]",
            "text/plain": [
              "<Figure size 360x288 with 1 Axes>"
            ]
          },
          "metadata": {
            "needs_background": "light"
          }
        }
      ]
    },
    {
      "cell_type": "code",
      "metadata": {
        "colab": {
          "base_uri": "https://localhost:8080/"
        },
        "id": "QAYTfJCH-HOl",
        "outputId": "61a3fb49-d1d2-4d58-f3b1-3c388f0e808b"
      },
      "source": [
        "df.loan_status.value_counts(normalize=True)"
      ],
      "execution_count": null,
      "outputs": [
        {
          "output_type": "execute_result",
          "data": {
            "text/plain": [
              "0    0.907146\n",
              "1    0.092854\n",
              "Name: loan_status, dtype: float64"
            ]
          },
          "metadata": {},
          "execution_count": 53
        }
      ]
    },
    {
      "cell_type": "markdown",
      "metadata": {
        "id": "t_7Jrmf59CEW"
      },
      "source": [
        "Как и упоминалось ранее, 90% -- первого класса"
      ]
    },
    {
      "cell_type": "markdown",
      "metadata": {
        "id": "x2r5BX-_KpUl"
      },
      "source": [
        "# Imbalanced classification"
      ]
    },
    {
      "cell_type": "markdown",
      "metadata": {
        "id": "Sh5q1E3N9Rvn"
      },
      "source": [
        "Будем работать с несбалансированным датасетом."
      ]
    },
    {
      "cell_type": "markdown",
      "metadata": {
        "id": "h26fZ-CJ_ECS"
      },
      "source": [
        "## Train-test"
      ]
    },
    {
      "cell_type": "markdown",
      "metadata": {
        "id": "qpo116_F-hLY"
      },
      "source": [
        "Для начала разобьем на обучающую и тестовую выборки.\n",
        "\n",
        "Делаем это **перед** нормализаций, чтобы не было утечки данных:\n",
        "\n",
        "\n",
        "\n",
        "*   Проходит подсчет минимумов и максимумов для каждого признака\n",
        "*   Все данные нормализуются в зависимости от \"глобального\" min/max, например\n",
        "*   После нормализации обучающая выборка \"знает\" данные о тестовой\n",
        "\n"
      ]
    },
    {
      "cell_type": "code",
      "metadata": {
        "id": "ZtvLLE0E_De2"
      },
      "source": [
        "x_train, x_test, y_train, y_test = train_test_split(df.iloc[:,1:-2],df.iloc[:,-1],test_size=0.3)"
      ],
      "execution_count": null,
      "outputs": []
    },
    {
      "cell_type": "code",
      "metadata": {
        "id": "ccGiwyD_GJJY"
      },
      "source": [
        ""
      ],
      "execution_count": null,
      "outputs": []
    },
    {
      "cell_type": "markdown",
      "metadata": {
        "id": "4M6euJnodMEl"
      },
      "source": [
        "## Scaling"
      ]
    },
    {
      "cell_type": "markdown",
      "metadata": {
        "id": "i6gbYXU7Cdd8"
      },
      "source": [
        "Можно использовать и стандартизацию, но в данном случае было принято решение сделать нормализацию. Единственное -- нормализация полезна, если данные не следуют нормальному распределению, тогда как стандартизация, наоборот, полезна при нормальном распределении"
      ]
    },
    {
      "cell_type": "markdown",
      "metadata": {
        "id": "sj1bjHJKARG_"
      },
      "source": [
        "Используем нормализацию, чтобы все значения лежали в интервале [0;1]. Нормализация -- необходимый шаг для некоторых моделей машинного обучения. Поэтому лучше подготовим наши данные, чтобы они могли пройти через все терни\n",
        "\n",
        "Если функция нормализации $y = \\frac x z$, то $z$ равняется: "
      ]
    },
    {
      "cell_type": "markdown",
      "metadata": {
        "id": "o4jr1icZA6T3"
      },
      "source": [
        "![image.png](data:image/png;base64,iVBORw0KGgoAAAANSUhEUgAAARoAAACQCAYAAADX76SwAAAdgUlEQVR4Ae1d3Usb3b7e/0sgkJyLPV7s2nPAlsIxOy/ZHjlBCkI3KBEUXxBaECwIuRByERByEwgobmhRdn1z8UouKkIpQpFcSMJBkouSgJCCoCBEEOZCeA5rvjKZr6xMZjIx+RVsZtasz+e35pnfx1ozfwH9IwQIAULAZwT+4nP9VD0hQAgQAiCioUlACBACviNAROM7xNQAIUAIENHQHCAECAHfESCi8R1iaoAQIASIaGgOEAKEgO8IENH4DjE1QAgQAkQ0NAcIAULAdwSIaHyHmBogBAgBIhqaA4QAIeA7AkQ0vkNMDRAChAARDc0BQoAQ8B0BIhrfIaYGCAFCgIiG5gAhQAj4jgARje8QUwOEACFARENzgBAgBHxHgIjGd4ipAUKAECCioTlACBACviNAROM7xNQAIUAIENHQHCAECAHfESCi8R3ifhoQUSudo/WklhHR+FpC7VE9H/D31zlOrsROJfdVHH9rdc5H+ugB3zNJzCW9+VsvdsYtXuaQeptEdHobx98OsL6yjfTvCUTnc6h4hX0vbI2y6ZXf7fXHOk4CkDkRjVuB+VKuikx4Fcc3auV3OF6JIHOpng/2e1tcRShb7VRymUVopYjbTspIH4nVHGLhCELhCF5nytBRpn2/Hx/QvmmiUjpEem0GUaV86E0BNalUC5/fruL4sogUq/dDSSb6G/l86+zBvm4Pr5hk42HdXVUFJHMimi4pBH1CRNNLAo1PixLRhMICUn/e9cpuut6uF7EVZ2Q1i/wVALGJk9wZauc7CIUTyNeVIvUCXqt5TLV4n0BE4z2mVKMtAkQ0ttCoF55aOF4TZLIRVnH8S73Qx+9jFZl4BFGddlcrzCL0Zgff23I9jU9JhN5kUeFSm/po2yYrEY0NMIMns5sq0q3K96h0aMLo0Q//LhPRcGF7U0JKkE0oZvp1fFpcpeVM9QJiwg4uJCJp4fifEYQ2SpB5ponPyQhep89xWy/huOq/+TS0uT15plM/RCP7Kpht3uVj6GNePY+sRDS8chLPdzR/S6yg2ju8pVk+Ea3LMhqMWdpneB+OYOFIcRBXc4iGZ5G5bOJ4ZRH7zX7qdZeXiMYdbhyleIhGRzCqE0+n7nI08syyENHwC0xEJZtQ/DUJZC4HsHGqBUwJi/isEspjFbvzAmJvN/D+qM7ndObvuGVOIhoFln9/+QN//+0fkmDZLzsf7B8/0aSKzOmnkI4F0UhCCvNGZ0Q0ijtYmI4gNL2BE8XGlyIa8cLQbHJr7PogmscmjtNLmJtP4OWrBNbzZdzeV7G/lkAsPoOXb3dwavBfmCZzQGq09dhdpCq+FknTjWeHF4p20dVeRUyyUQu4kLNa1PI3IJlzRZ0YqUjCVLUK5XcwsuEhGj1U3hDN7Z+riIYFvJxPIsbIZuUAteszbE0P+FTUd9X1MSfRiFXsxhPYKimq/hWLkDCfhYBUsYXW123MMR/GhzPF5yB3yDSZA5p0ruGxKsh8Lcp8jBrGa5V9VNNMsmEddSlnxzEGJHMuolE1GSPZsHT3/7wjGv4+tHCysYS8Ts1uldhNKd+gzvWIqOTcLhbLatEM5zb4iKZ1tIjX2WpHpZdCsRFIa0OeOubmay1WK7dqmsyeT7oWTj64xGjlEA1ncGyvtors4dEhWtuMI3zBJBsAbuXsOEzPZe7YmnaRi2iMBKM/12rq+yAIojF3kj39t3SrRM05hpnCQzQPqBzlcHrd6RfT0phMtHDtTR0Xl020tRXGcl7TZA5o0nV67tGRFyFvj7rithqTbOBezo59CEjmXEQzPhqNXgQiaoVNbH3tLEXXXw3mmIdojD0T8T0th3rff3UOw5oms9Oke2zhIreIZ2OO3J/hvRTydreQz4jqsM9NsjF1gFfOIir5JKLhJes1Rk4yN7XpXQIX0Yy6j6ZvOJ5aOP24hEzZ+cbsu96BC7ghmjrybxjR2EwsXZ9Mk9ly0lWxn0xiPb2JBWaOPBe/B9NqViKI6U1K3dhH/dAkG1OH+eXc+naA3aMybg0arVSlpcxNjXmewEU0rFVGNqpmw34HcwSzGgMynR7ryC8vIa/fXMjs4W8H2P/htKR9dHw00JtGzUPMMULQ9u4wbB9Q+dRtXrFU02R2nHSKfPoimmB8NGxNDAt1R9dcLt5j4LA6nDQBKQ/Hfy41QZNsWFMu5ezYS0eZO5Yc6CI30QzUimXhAIhGCofOSOZSW7crt10/REpQ9r5Y9nVYiRwajVhGWlkVyzZbShOUEU36vOMcbh5iQdjGqbKcXu29aTI7Tjo3RKO2NNxfyRnsQXjbURPoOaTBNEGTbNzI+dcZ0r+vYuHNC9huBnWUec9Bus4wFkSj3myOu5wVh+HU8g4yH5gNG8FUPIm5+AvJkToaKjcH0dyVpF3GU8sHqN2wPTsCoox4PipE0y5LaSzMbfxnmsyOk+55EI14mUXM7Z4nI0CenLvDzSSbvuXMoo2LyNfr0vaJWKbctbRBG5qjzLVcnh8ETzRSWFJ2ZnaiWVlUTEMdbB1NYy+hs99FNI428VKIIPpqEelis6MNmNodZgIH0UBEbW8JU9MJxF4lpbU07asDpF4JmIqzxXuryJetTUDTZHacdO5umGGihV9FpAS36590WxB4NAHugbnDzSSbfuXMdqHvsb1ZbE1VArtVm5XSjjLnHmTfGQMkmr77OgEFeIjGPQymyew46dzdMO5712dJyQzmWf9kU6+2qdJGE7g5x34uh91ef/lzdOuO7nAzycam272Sa/lZhOI5+xXujjLvVbv760Q07rHzoSQRDReoihns2txVXxOxU4bIqwlwdYxlCpBonuTIFFvM2Tg/wMlPC62GiIZbkmOckYimt3AHjDDdnCMzz95nIyD9o3Mj9tQEendMyREg0ai7zstl5N9u4/u9RaeJaCxAmbikUSCaO5xuJzE3r7728gViySRSR+rW5mCF0neE6UlE+76F2rciMr8nMKX6BLV30QCw0gTuys/PdBKryM8zX90S0nYLUYlogp3Ao9H6KBDNaCBh1QspwqQSxYC/UWY2qY3waAJq3p6/AWo0PfsGgIiGB6Vxz/OAStG/ryCIzbNn/BUE4LZexsUPb/4qvzSakXZJ99QEek69ATXBuzoq17o+9WzPZYbHFip166ikyxq5ipEzmAsmykQIEAKDIEBEMwh6VJYQIAS4ECCi4YKJMhEChMAgCBDRDIIelSUECAEuBIhouGCiTIQAITAIAkQ0g6BHZQkBQoALASIaLpgoEyFACAyCABHNIOhRWUKAEOBCgIiGCybKRAgQAoMgQEQzCHpUlhAgBLgQIKLhgokyEQKEwCAIENEMgh6VJQQIAS4EiGi4YKJMY4nA0x0aw9jIOJbg9TcoIpr+8KLcY4SA9PpM/dcjxmhsozYUIppRkwj1Z0gI3OF4KYK52f/FXNLhe+GJN/jrX6fwH7q/v/33/1iXmY/hhZTvb/iv3xzq1fLJ9drWJ/VrHm/+s798Ul9fzuI347gM7drmM5RLnw3+WgkimiFNa2pmxBC4L2E9vGn69tWI9XJsukNEMzaipIH0g0D76+bz+dxvPwMb0bxENCMqGOqWnwg84PRDBOulUfv2up9jDrZuIppg8afWg0CgfYb34Q2cWH0lIIj+TECbRDQTIGQaYjcC4vkOQitF3HYn05mPCBDR+AguVT2KCIj4no4gVRw8kjKKoxvVPhHRjJRkRNRK/n0FAb/On/VXEDwRlVhGWljE52u5tvZ51jpUbQjxOobA1by/Fzufx32sYndtEXPCC2wVz7G/sYqt9AZiQhK7l0P42oEbsNg3yJeTmIu/QGg6gfW9eueTNG7q05UhotGBEfwhfdfJbxmIP3YQTR6ioTYkVrEbjyDEvhP1JouLR/WCw6/0Ubo7NC5L+JxexUtBKR+eRb4ul2sdLSJVrOJ4hdW7iROJ2Nh3viMIfTxD26H6QC6xj+jNL2L/p9r/VQmT2J43Hw4koglEqnaNEtHYIeNVeiUrYO6T4eZpHmJB+SBddK3Uv++mXcfxx4R0Y76WmEZEo5TDaf0c6XAEsYLCPlC+ja2ykVeD8qIe6SN6EUQzyof1RLnvoXAWFQ/qD5BolC/6ZavOw2Bf1uv6KqE3A3duNKirRDS+Iv9URUboaB36tqRP7UrzTECq2NJf4jyWvwkeErKoPClF6gW8Ds8ifa6E0ZuHmAvPIjOKptP9OTLLS3h/pJpLyv0pbHuyqHGkiUbaixJexfFNR9aVLFNTu9M6V5/7ERGNrxK8KuD1mwJqlo3c4WRNUB5qqzj+ZZnJOZGZH3EB6R+yD6b1ZQkhXRi98SmJ0JsdfL+p4+RLdfTMJ/3ofh5gjmljH8/61/D09SjHI040RQu1TWba8YwaENFYzFHPkmqFWbzWzBiLah/PkVb9LfECaqpmYpHVLkm8ruKiyTQYeVFg6O2h4iCuYleI4HW2ikZxFQv/MphvdhUGkf7UwvGagOhiATUenxVHH0eaaKz7rzjUdCaXrPlEkLm0LvF8Uolo/JMV84/MIn/l3IJ4mUVMMdVj2eoAUZcq8tMCFo5UQhFRySURjS9iffPQsxvYeTRurjITMIm57SIaHpEM6wU30fz7yx/4+2//kFRL9svOB/snayYhHWHw1Tco0YhoFHewMB1BaHoDJ4qKLFZziMULqAQaeeyDaB6bOE4vYW4+gZevEljPl3F7X8X+WgKx+Axevt3BqUH9lwhZjzfzf03KwjXmL9H7T2wnm+JrkcgmMZr+FNu+Gy/Ic/3dfBKxVzOI/V7Axc0DKnuriMXZvFlE+qveHyWTzEKujFumzT1VkV8poOJBiIyLaBipdDtk5XDeYGTjkmgU57Bb7eX2z1VEwwJeMvAZ2awcoHZ9hq3pUZhUnEQjhWQT2Copk4T5HnSOzNbXbcwxE+BDdxh1komG+UeiepI13pP6c8nXooSshU2cPsutCkyDSiD2sYSWRBpyxIvdx9G1Ilpszs8zn1RnB7vkEF/M4fRHGRfs78sOXmumnx6g/o+5iEbVZIxkw9Ld/3NBNDdFpNgNxTthTJ1r4WRjCXmd179VYjclT6RBVn25Fm6pC7i03yy+cz0V+IiGrdFgtr6mfEnRDbZeg/kVFI0vHIEcau2A4D/RtHDyweHdLhoeFnlWdGtbOl326KiJz8mOk5ar0l9FpBR/jXRjuvDXcLXjV6brQyy8yeo0dJVoZPNRdTfIcwbAzwPNZNTf51GP1vxwEY2+YeOxe5z6IxoNGNckY91T9vTfchXOtK5vsFQeonlA5SiHU2VlK2uPaWlMLtoT+6aOi8sm2oabw3+iGWz0vpVmN114B981ZuZrafCQN187fuRqXx5i90xnFt2V5Ie0aj4+3aH2o4oG1wNw8B5yEU2wGk3nCe3WXLKGSUStsImtLhvVOufwUnmIxtgbee8OI5r3X51fe8BNND4uRTf2fqDzuyZaHA5LpgGGXL2yk0WO5JC3q4V8Aw3O28LSRlJmDRjMaW9bsa+Ni2iC89EoWo9HqxM1GJ5aOP24hEzZ+cbU8g/twA3RqCrxUs+1H1xE4/NSdM+gfKwiE+9NroD8oEqf96nOKB1tfVlFKJ5FhYPQPBubDxWx0D57GL37otNyfGjHrkouomGFGdmomg37HcwRzGpUSMTBFJIX53m8EvixjvzyEvJX3ROv9e0A+z+cdvSOjo8GetNIWm2q+Gc0KT+g8qnbvGKXuIhmoKXoQ/LRKOs8JDO+1xNa8ut1HJ4aRBwHUqhbcLl4T6lfrBYkx/y7QczzJxG3V0Vsxa1XNVsOpcs0Yj4q5tzuLm8yrywr8iaRm2i8aU5fSy+ika/zLMyTbqAwxzoa6Sk4I5lLbd0Tql0/RIotTe+xxkLfe3+OOTQaafexHBFhpqQ69i7TgO3dsVg6zkU0Pi9FHxw3OfwcFdRVvM6+l3Zpw525IDmDPYhE/jrHfu4QF07PMAdQblkEcXkTW2tMI+kmCvtiIi52FHzYg1wNouj9VE9NfH4rYOusW6v3hBgtOhY80UhhWSWUqB0zLUYhIi3NmKezDUG92Rx9OMpTcGp5B5kPSUTDEUzFlS3xbKm1PopjAdRwkjiIRnHqTS0foHbDzAcBURYd+XguR6HaZSnNar8OF9EYB+rxUnRj9f2ei+Usppgp81OJQIYFh4WaLl/ZKT2QeCKR/fbefX55jvMSDdtOwdaJLWH/6g6VbAIyMW/jO3vAPj3ggqWxMLchYMBeJTIIMdqNMECiseuSP+mNvYSOTEQ0jjal7f1Rtmip2OyEiv1pnrNWDqKBiNreEqamE4i9SkpradpXB0i9EjAlLcJaRb5s/fjsm2h8WIrOCQRHNtUciNhvK3Dzyk5lzG4fPNoWBOYHTG8gtTiLKQ9CxP0RDSBeHeDd9Atp8ebcdgmt+zr212YQlebNDFJsgaeRZDhQd5tlYojGLUDDLcdDNO571B/R+LMU3X3vzSVVB2dI/34ZXTbpSwd9rXxWzDKrJ72uXttD3aZKhvVCoY4a20gZz+JCCiOLqP2Zw26u999xtduk6ZdobPtod8FjYjQ2Q0RjRCTQ81EhGv+WonsKr7pQMdx5Y16n/v5f2Smtm3EdYZJJKiTs4EJk76M5kHZp599EEMvpFld2OtjXkd9EY02MfXXRMTMRjSM8w744GkTj51J0TxGV3i8j++5MQQPpxU1WBGTdg4EiTE93+J6R/X7RHeXFUawZaWtIArvV7gindQ+cU/0lGu+J0TgaIhojIoGejwDR+LwU3Vt4O4sVjQvRTK/sdGrYRYRJvH9A6+ocx9kNec+cFLTo3uZQy89KrwetNM+xX2J+QPnNeyNpOjF8PCRGI9xENEZEAj0fAaIJdPz9Ny75YaSbXB/mlsO7pld2WlWvLPyT1uTYRjiNEU+bc8lsUhtR3z9TxkV+EVvfun0uai7eX381GrkXZmLk7V3vfEQ0vTEaYo4HVIr+fQVBbJ6N31cQtDUiujC3ZFIl8Vl9FYyTBO/q8k5ldcfyIL/Vli56KaKST0pRnnfpM3MY2alP+mvVA+krDdKbBth+tldsQyrvJl19Rb2OvSVGY2tENEZE6PyZIdDZC6ftVr/MImr7ys5nNryhddcjYrTpLxGNDTCU/HwQkN7Fy8wehVyYCeD4ys7nM7Sx6SkRzdiIcoIHooW5mbnE98rOCUYrkKET0QQCOzXqKQL6MPeHTflLB0Nc9erpWMa0MiKaMRXsZA1LF+bWvwBsskAY6dES0Yy0eKhzvAh0wty66BNvYcrnOwJENL5DTA0MBQE1zN21lmUoLVMjHAgQ0XCARFmeAwJymLtrC8Bz6PaE9JGIZkIEPQnDbP+sozX4tqJJgGroYySiGTrk1CAhMHkIENFMnsxpxITA0BEgohk65NQgITB5CBDRTJ7MacSEwNARIKIZOuTUICEweQgQ0UyezGnEhMDQESCiGTrk1CAhMHkIENFMnsxpxITA0BEgohk65NQgITB5CBDRTJ7MacSEwNARIKIZOuTUICEweQgQ0UyezGnEhMDQESCiGTrk1CAhMHkIENFMnsxpxITA0BEgohk65NQgITB5CBDRTJ7MacSEwNARIKIZOuTUICEweQgQ0UyezGnEhMDQEQiQaNgH7eWPpWcue49b/sh5BKFstXdmykEIEAIjhcBIEE1opYhbR1g6pERE4wgUXSQERhKBwIkmtbKKUDgCJ61G1mZWkVohjWYkZxF1ihDogQA30fz7yx/4+2//kEiB/bLzwf4pWkq2iGNHApHzpYpVy3yVrGx+MbKS/7Ko6DqmXjcSmZy+iuMbQDXLjHl01egORTSKO1iYjiA0vYGTX/IlsZpDLF5AJZC38CtYTicQY/3KlnFbPsD75STm4i8QfZXEevYcrSd00udnEBVmsJAuovGoGx50eZJy+an4Et7vlXGr/8zsZVbBW8U9Alkz1WmfqkzI3O0GeALPuIiGkUrnRu5MrMHIRiWaKiBNWvmmN8lAu6bLr2Zi17omsfxtn25TzCJN+diYSiz9EM3tn6uIhgW8nE/KN/XKAWrXZ9iaTiBzGQjLqGjg9s8NWU6CgKm1okQs7GIlNyulx+aTXemtL7I22fUtpOtDLEgEsYjP13LV7XIWMfapWV2dWqPXRaQENicS2P8pp7a+LCEUfoH1vSpaBhLTyikHt+UC1ucZoc3g5eIOjn8+oFXawUI8gdirGaT26ggWVWOP6dwNAlxEo2oyRrJh6e7/6YlDf6yvUSEJiUzs8ujzw5q0uojFgngMVdiftnCysYS8jlBapW3MCQJSxZZ9MemKiEouiTmmJfT9l8X3do/q2WVNy9jAyb0uv1269nXHXEcLvC7iHSMOYRUnN2odDzjZYGQiIP3DfNu3iox8GRGVcPvUwvGagFihrha2/WWkPbVYQEUam9pGBKF4FpWbOvaXXyAUnkW+d1W2bdCF0UCAi2iMBKM/dz+MbuKQtYpus6db0+nOb9tuF6l0ckmmEnM6axpS59ogR62v29jqSTKDtNBHWZVQ/llEF+3ZpatEEzbgLj6gbeAT1QRNFe/MHVLIhRHRwuIiQm8P0dCbWeYSgFhGWtBrsQ84/SBry+ulB3vStKqL0kYeAS6i8V+jYTjJRNKZyHptpnO921SS8VVvAj0BqmZRRwIKUYUj6LTRudr/kYhaYRNbX7tu6f6r8bKESijGKJ5duh3RAGg3z/E5s4l3yQSmVN+PE3Y3JcWEmsEux3IFXJ9h96iKjqJWxa5kgink8/SAxmUZNU2rUoC6KWF9OoKpbJlMKi/njs91cRGN7z4aZZBdWo1JMzFrNKpvpYt8TOVUBDtEYyYhNQ/n71MLpx+XkCk/cBYYUjY7QrFLtyKaxzryi4JkJs1tF1G7k1UblcxtSVqsYjcuaySWvpxeEDQPMcd8Q28KqDnlfazjOHeAk58GlcupDF0LHAEuomG9ZGSjajbsdzBHMKvRTBzQkYRm6mgQGfPL56aJr6tDK8ocoiw6tVJEpcgcoAZTQZ+x1zG7EZeXkL/qnuitbwfY/2FhVmj1DdFHM4BGUyskZIfyRkmnbSj4qRrNo9G0ElHJJhD9UEB+jZFUBKkv/Wl67a+bcruZsoYYHYwPAtxE4/2QjcQhtyATwipSprU1hvw2hKJqOV1ai/JEl9MM9fQzsMcqMvEZyVxq66Ip7fohUsIs8lf9VOZDXjvNxS7dpNEo5qpKKFoXRXxPy9oKI3YmIz3Bi+UsXgs7+M4wuT/De9UEUkL/WjX6gy7TqFP/+686LbGpN69E1PY2sL68iOj8AWq9fED6tug4cARGjmhUrcasdRgJQjnXP73VG6qLpIzlOtEZlYwsyckoGsXhObW8g8yHpBRlmYrL60zYEzyWrQbvM/ixI2sF/zzUQtvSMOzSrw/xTgplZ3Gh3Lito0W5jpVOHSy8zSJrbJxz/6ri9GMEEiE8iWj9yGGBEYtOE9HqeHuAWrfip6Gq5WHye6oiI5FTEp+bahZGPgJie3KCeJnFwoczNM53EBI6oXc1N/2ONgKjRzSQn6r6J6YMoQVhaE9k+WkrrZ/p0nTUJ7Q+usFq607nIZrGXkJHJiIaR5t4KUQQfbWIdLEZMMko2KgL5JTfVLGo7SfTO8q1xY+G/LKvS0SjlMU6W9A3nZBC8evZEhp3arj5BRbSZ/i/P+Q1OJ16FYyNMlGITL+IkkmgkhMQEpKSdsjC41MSkSV1a3FWEWVhbkVzvP1xgJP6nRSZksLoo31fUe8MCARINIae0OlkIfDrDFvzL/CSLdRbPkDlvoXT9CKmhBlpoZ7VimXcl7AeFpD608kXNlkwPpfREtE8F0lRP9EusZXPqzhu1nHyqdxjIy4BNkoIENGMkjSoLw4I3OFkTY4c1kobWPiX5sxxKEOXRgUBIppRkQT1oycCt6UNybSa+/0ANV3Ur2dByhA4AkQ0gYuAOkAIjD8CRDTjL2MaISEQOAJENIGLgDpACIw/AkQ04y9jGiEhEDgCRDSBi4A6QAiMPwJENOMvYxohIRA4AkQ0gYuAOkAIjD8CRDTjL2MaISEQOAJENIGLgDpACIw/AkQ04y9jGiEhEDgCRDSBi4A6QAiMPwJENOMvYxohIRA4Av8PAKGBpas9joEAAAAASUVORK5CYII=)"
      ]
    },
    {
      "cell_type": "markdown",
      "metadata": {
        "id": "wSWY7UUoBbJd"
      },
      "source": [
        "В нашем случае стандартный способ -- L1"
      ]
    },
    {
      "cell_type": "code",
      "metadata": {
        "id": "qD5FMHNJdKAL"
      },
      "source": [
        "normalizer = Normalizer()\n",
        "x_train = pd.DataFrame(normalizer.fit_transform(x_train),columns=x_train.columns)\n",
        "x_test = pd.DataFrame(normalizer.transform(x_test),columns=x_train.columns)"
      ],
      "execution_count": null,
      "outputs": []
    },
    {
      "cell_type": "markdown",
      "metadata": {
        "id": "xcUNyCwaBi_Q"
      },
      "source": [
        "Видим, что все данные нормализованы"
      ]
    },
    {
      "cell_type": "code",
      "metadata": {
        "colab": {
          "base_uri": "https://localhost:8080/",
          "height": 336
        },
        "id": "VdusIbVZCsZN",
        "outputId": "4908bd8d-2f32-411c-d889-828b59653322"
      },
      "source": [
        "x_train.head()"
      ],
      "execution_count": null,
      "outputs": [
        {
          "output_type": "execute_result",
          "data": {
            "text/html": [
              "<div>\n",
              "<style scoped>\n",
              "    .dataframe tbody tr th:only-of-type {\n",
              "        vertical-align: middle;\n",
              "    }\n",
              "\n",
              "    .dataframe tbody tr th {\n",
              "        vertical-align: top;\n",
              "    }\n",
              "\n",
              "    .dataframe thead th {\n",
              "        text-align: right;\n",
              "    }\n",
              "</style>\n",
              "<table border=\"1\" class=\"dataframe\">\n",
              "  <thead>\n",
              "    <tr style=\"text-align: right;\">\n",
              "      <th></th>\n",
              "      <th>f1</th>\n",
              "      <th>f2</th>\n",
              "      <th>f3</th>\n",
              "      <th>f4</th>\n",
              "      <th>f5</th>\n",
              "      <th>f6</th>\n",
              "      <th>f7</th>\n",
              "      <th>f8</th>\n",
              "      <th>f9</th>\n",
              "      <th>f10</th>\n",
              "      <th>f13</th>\n",
              "      <th>f14</th>\n",
              "      <th>f15</th>\n",
              "      <th>f16</th>\n",
              "      <th>f17</th>\n",
              "      <th>f18</th>\n",
              "      <th>f19</th>\n",
              "      <th>f20</th>\n",
              "      <th>f21</th>\n",
              "      <th>f22</th>\n",
              "      <th>f23</th>\n",
              "      <th>f24</th>\n",
              "      <th>f25</th>\n",
              "      <th>f26</th>\n",
              "      <th>f27</th>\n",
              "      <th>f28</th>\n",
              "      <th>f29</th>\n",
              "      <th>f30</th>\n",
              "      <th>f31</th>\n",
              "      <th>f32</th>\n",
              "      <th>f36</th>\n",
              "      <th>f39</th>\n",
              "      <th>f40</th>\n",
              "      <th>f41</th>\n",
              "      <th>f42</th>\n",
              "      <th>f43</th>\n",
              "      <th>f44</th>\n",
              "      <th>f45</th>\n",
              "      <th>f46</th>\n",
              "      <th>f47</th>\n",
              "      <th>...</th>\n",
              "      <th>f738</th>\n",
              "      <th>f739</th>\n",
              "      <th>f740</th>\n",
              "      <th>f741</th>\n",
              "      <th>f742</th>\n",
              "      <th>f743</th>\n",
              "      <th>f744</th>\n",
              "      <th>f745</th>\n",
              "      <th>f746</th>\n",
              "      <th>f747</th>\n",
              "      <th>f748</th>\n",
              "      <th>f749</th>\n",
              "      <th>f750</th>\n",
              "      <th>f751</th>\n",
              "      <th>f752</th>\n",
              "      <th>f753</th>\n",
              "      <th>f754</th>\n",
              "      <th>f755</th>\n",
              "      <th>f756</th>\n",
              "      <th>f757</th>\n",
              "      <th>f758</th>\n",
              "      <th>f759</th>\n",
              "      <th>f760</th>\n",
              "      <th>f761</th>\n",
              "      <th>f762</th>\n",
              "      <th>f763</th>\n",
              "      <th>f765</th>\n",
              "      <th>f766</th>\n",
              "      <th>f767</th>\n",
              "      <th>f768</th>\n",
              "      <th>f769</th>\n",
              "      <th>f770</th>\n",
              "      <th>f771</th>\n",
              "      <th>f772</th>\n",
              "      <th>f773</th>\n",
              "      <th>f774</th>\n",
              "      <th>f775</th>\n",
              "      <th>f776</th>\n",
              "      <th>f777</th>\n",
              "      <th>f778</th>\n",
              "    </tr>\n",
              "  </thead>\n",
              "  <tbody>\n",
              "    <tr>\n",
              "      <th>0</th>\n",
              "      <td>7.060048e-36</td>\n",
              "      <td>5.786925e-37</td>\n",
              "      <td>2.660674e-38</td>\n",
              "      <td>7.523002e-35</td>\n",
              "      <td>9.259079e-37</td>\n",
              "      <td>4.752338e-33</td>\n",
              "      <td>4.454196e-34</td>\n",
              "      <td>2.224494e-34</td>\n",
              "      <td>6.980767e-36</td>\n",
              "      <td>7.053682e-36</td>\n",
              "      <td>6.944310e-37</td>\n",
              "      <td>4.748172e-38</td>\n",
              "      <td>4.708242e-38</td>\n",
              "      <td>8.736902e-32</td>\n",
              "      <td>4.708242e-38</td>\n",
              "      <td>4.708242e-38</td>\n",
              "      <td>3.425281e-38</td>\n",
              "      <td>4.708242e-38</td>\n",
              "      <td>4.873169e-38</td>\n",
              "      <td>4.873169e-38</td>\n",
              "      <td>8.518235e-29</td>\n",
              "      <td>5.555448e-36</td>\n",
              "      <td>3.240678e-36</td>\n",
              "      <td>6.453208e-32</td>\n",
              "      <td>5.555448e-36</td>\n",
              "      <td>5.555448e-36</td>\n",
              "      <td>6.847668e-36</td>\n",
              "      <td>6.148029e-36</td>\n",
              "      <td>5.555448e-36</td>\n",
              "      <td>5.727319e-38</td>\n",
              "      <td>4.629540e-37</td>\n",
              "      <td>4.321675e-38</td>\n",
              "      <td>4.642502e-38</td>\n",
              "      <td>3.758463e-38</td>\n",
              "      <td>4.629540e-37</td>\n",
              "      <td>5.076232e-39</td>\n",
              "      <td>4.798460e-38</td>\n",
              "      <td>4.635616e-38</td>\n",
              "      <td>4.848806e-38</td>\n",
              "      <td>4.083763e-38</td>\n",
              "      <td>...</td>\n",
              "      <td>2.807237e-37</td>\n",
              "      <td>2.076927e-38</td>\n",
              "      <td>1.869177e-37</td>\n",
              "      <td>5.208232e-37</td>\n",
              "      <td>7.874268e-36</td>\n",
              "      <td>-2.138847e-36</td>\n",
              "      <td>2.361094e-34</td>\n",
              "      <td>2.240524e-37</td>\n",
              "      <td>-4.076888e-38</td>\n",
              "      <td>9.189636e-38</td>\n",
              "      <td>2.346424e-37</td>\n",
              "      <td>1.715360e-37</td>\n",
              "      <td>1.275380e-37</td>\n",
              "      <td>5.441735e-39</td>\n",
              "      <td>1.003800e-37</td>\n",
              "      <td>7.579135e-38</td>\n",
              "      <td>3.414286e-38</td>\n",
              "      <td>1.633070e-38</td>\n",
              "      <td>6.293338e-39</td>\n",
              "      <td>2.300303e-37</td>\n",
              "      <td>1.659806e-37</td>\n",
              "      <td>1.215601e-37</td>\n",
              "      <td>5.065527e-39</td>\n",
              "      <td>2.961054e-37</td>\n",
              "      <td>2.626511e-37</td>\n",
              "      <td>-9.137554e-39</td>\n",
              "      <td>-4.513801e-38</td>\n",
              "      <td>-3.587893e-38</td>\n",
              "      <td>-4.351767e-38</td>\n",
              "      <td>-2.018479e-38</td>\n",
              "      <td>-1.614552e-37</td>\n",
              "      <td>4.629540e-37</td>\n",
              "      <td>9.027602e-38</td>\n",
              "      <td>-5.786925e-38</td>\n",
              "      <td>3.992978e-38</td>\n",
              "      <td>1.567678e-38</td>\n",
              "      <td>-3.843097e-38</td>\n",
              "      <td>0.000000e+00</td>\n",
              "      <td>0.0</td>\n",
              "      <td>2.968692e-35</td>\n",
              "    </tr>\n",
              "    <tr>\n",
              "      <th>1</th>\n",
              "      <td>2.121051e-37</td>\n",
              "      <td>3.366747e-39</td>\n",
              "      <td>7.085161e-40</td>\n",
              "      <td>2.188386e-36</td>\n",
              "      <td>6.733495e-39</td>\n",
              "      <td>1.055475e-36</td>\n",
              "      <td>1.774276e-36</td>\n",
              "      <td>1.021808e-35</td>\n",
              "      <td>2.165829e-37</td>\n",
              "      <td>2.127279e-37</td>\n",
              "      <td>2.525061e-38</td>\n",
              "      <td>1.654588e-39</td>\n",
              "      <td>1.640616e-39</td>\n",
              "      <td>1.962162e-32</td>\n",
              "      <td>1.640616e-39</td>\n",
              "      <td>1.640616e-39</td>\n",
              "      <td>1.524463e-39</td>\n",
              "      <td>1.654588e-39</td>\n",
              "      <td>1.654588e-39</td>\n",
              "      <td>1.640616e-39</td>\n",
              "      <td>3.790879e-30</td>\n",
              "      <td>1.935880e-37</td>\n",
              "      <td>1.919046e-37</td>\n",
              "      <td>2.871878e-33</td>\n",
              "      <td>1.935880e-37</td>\n",
              "      <td>1.935880e-37</td>\n",
              "      <td>1.935880e-37</td>\n",
              "      <td>1.935880e-37</td>\n",
              "      <td>1.935880e-37</td>\n",
              "      <td>1.654588e-39</td>\n",
              "      <td>4.040097e-38</td>\n",
              "      <td>1.527325e-39</td>\n",
              "      <td>1.611224e-39</td>\n",
              "      <td>1.482014e-39</td>\n",
              "      <td>4.040097e-38</td>\n",
              "      <td>7.970438e-41</td>\n",
              "      <td>1.127280e-39</td>\n",
              "      <td>1.567978e-39</td>\n",
              "      <td>1.640633e-39</td>\n",
              "      <td>1.532424e-39</td>\n",
              "      <td>...</td>\n",
              "      <td>-2.484660e-39</td>\n",
              "      <td>2.141925e-39</td>\n",
              "      <td>5.354812e-38</td>\n",
              "      <td>4.208434e-38</td>\n",
              "      <td>4.707891e-37</td>\n",
              "      <td>2.579333e-36</td>\n",
              "      <td>2.036679e-35</td>\n",
              "      <td>5.207012e-39</td>\n",
              "      <td>1.541129e-39</td>\n",
              "      <td>2.469476e-38</td>\n",
              "      <td>3.356546e-38</td>\n",
              "      <td>3.070979e-38</td>\n",
              "      <td>2.816537e-38</td>\n",
              "      <td>7.730894e-41</td>\n",
              "      <td>2.552163e-38</td>\n",
              "      <td>2.276797e-38</td>\n",
              "      <td>1.736686e-38</td>\n",
              "      <td>1.337828e-38</td>\n",
              "      <td>1.319563e-40</td>\n",
              "      <td>3.245242e-38</td>\n",
              "      <td>2.916697e-38</td>\n",
              "      <td>2.626164e-38</td>\n",
              "      <td>6.524588e-41</td>\n",
              "      <td>3.499549e-38</td>\n",
              "      <td>3.348870e-38</td>\n",
              "      <td>-2.878569e-41</td>\n",
              "      <td>-1.127860e-39</td>\n",
              "      <td>-9.847736e-40</td>\n",
              "      <td>-1.082409e-39</td>\n",
              "      <td>-1.043018e-39</td>\n",
              "      <td>-2.503177e-38</td>\n",
              "      <td>4.040097e-38</td>\n",
              "      <td>1.737242e-38</td>\n",
              "      <td>-1.292831e-38</td>\n",
              "      <td>9.898237e-39</td>\n",
              "      <td>3.614203e-40</td>\n",
              "      <td>1.196037e-39</td>\n",
              "      <td>1.683374e-39</td>\n",
              "      <td>0.0</td>\n",
              "      <td>3.366747e-39</td>\n",
              "    </tr>\n",
              "    <tr>\n",
              "      <th>2</th>\n",
              "      <td>5.413113e-36</td>\n",
              "      <td>4.093951e-37</td>\n",
              "      <td>3.439356e-38</td>\n",
              "      <td>8.187903e-35</td>\n",
              "      <td>7.278136e-37</td>\n",
              "      <td>3.633791e-33</td>\n",
              "      <td>1.356008e-34</td>\n",
              "      <td>1.113555e-34</td>\n",
              "      <td>5.572323e-36</td>\n",
              "      <td>5.444955e-36</td>\n",
              "      <td>2.274417e-37</td>\n",
              "      <td>3.678643e-38</td>\n",
              "      <td>3.584937e-38</td>\n",
              "      <td>9.170319e-32</td>\n",
              "      <td>3.584937e-38</td>\n",
              "      <td>3.584937e-38</td>\n",
              "      <td>2.631501e-38</td>\n",
              "      <td>3.615869e-38</td>\n",
              "      <td>3.710939e-38</td>\n",
              "      <td>3.710939e-38</td>\n",
              "      <td>6.543507e-29</td>\n",
              "      <td>4.230416e-36</td>\n",
              "      <td>3.229673e-36</td>\n",
              "      <td>4.957202e-32</td>\n",
              "      <td>4.230416e-36</td>\n",
              "      <td>4.230416e-36</td>\n",
              "      <td>4.774002e-36</td>\n",
              "      <td>4.485606e-36</td>\n",
              "      <td>4.230416e-36</td>\n",
              "      <td>4.316844e-38</td>\n",
              "      <td>9.097670e-38</td>\n",
              "      <td>3.657491e-38</td>\n",
              "      <td>3.590350e-38</td>\n",
              "      <td>3.662039e-38</td>\n",
              "      <td>9.097670e-38</td>\n",
              "      <td>7.812624e-40</td>\n",
              "      <td>-7.016168e-38</td>\n",
              "      <td>3.811469e-38</td>\n",
              "      <td>3.749241e-38</td>\n",
              "      <td>3.790772e-38</td>\n",
              "      <td>...</td>\n",
              "      <td>-1.911875e-37</td>\n",
              "      <td>-7.081171e-38</td>\n",
              "      <td>-2.124306e-37</td>\n",
              "      <td>1.364650e-37</td>\n",
              "      <td>9.921009e-37</td>\n",
              "      <td>-4.632988e-36</td>\n",
              "      <td>2.163562e-35</td>\n",
              "      <td>1.001426e-37</td>\n",
              "      <td>-4.052102e-38</td>\n",
              "      <td>3.831484e-38</td>\n",
              "      <td>6.320606e-38</td>\n",
              "      <td>5.272100e-38</td>\n",
              "      <td>4.399178e-38</td>\n",
              "      <td>7.578359e-40</td>\n",
              "      <td>3.831484e-38</td>\n",
              "      <td>3.323834e-38</td>\n",
              "      <td>2.014224e-38</td>\n",
              "      <td>1.222727e-38</td>\n",
              "      <td>1.164274e-39</td>\n",
              "      <td>6.207795e-38</td>\n",
              "      <td>5.129266e-38</td>\n",
              "      <td>4.238604e-38</td>\n",
              "      <td>3.939291e-40</td>\n",
              "      <td>8.166523e-38</td>\n",
              "      <td>7.881766e-38</td>\n",
              "      <td>-8.378954e-39</td>\n",
              "      <td>-3.411626e-38</td>\n",
              "      <td>-3.616324e-38</td>\n",
              "      <td>-3.434370e-38</td>\n",
              "      <td>-3.593580e-38</td>\n",
              "      <td>-7.187159e-38</td>\n",
              "      <td>9.097670e-38</td>\n",
              "      <td>5.686044e-38</td>\n",
              "      <td>-4.503347e-38</td>\n",
              "      <td>3.593580e-38</td>\n",
              "      <td>1.364650e-39</td>\n",
              "      <td>8.432630e-38</td>\n",
              "      <td>4.548835e-38</td>\n",
              "      <td>0.0</td>\n",
              "      <td>1.792241e-35</td>\n",
              "    </tr>\n",
              "    <tr>\n",
              "      <th>3</th>\n",
              "      <td>1.272081e-35</td>\n",
              "      <td>7.950507e-37</td>\n",
              "      <td>1.270527e-39</td>\n",
              "      <td>1.291957e-34</td>\n",
              "      <td>3.975253e-37</td>\n",
              "      <td>1.234416e-33</td>\n",
              "      <td>4.296255e-34</td>\n",
              "      <td>8.526918e-35</td>\n",
              "      <td>1.262143e-35</td>\n",
              "      <td>1.270093e-35</td>\n",
              "      <td>6.956693e-37</td>\n",
              "      <td>7.756713e-38</td>\n",
              "      <td>7.756713e-38</td>\n",
              "      <td>4.230584e-31</td>\n",
              "      <td>7.756713e-38</td>\n",
              "      <td>7.756713e-38</td>\n",
              "      <td>5.978781e-38</td>\n",
              "      <td>7.756713e-38</td>\n",
              "      <td>8.752514e-38</td>\n",
              "      <td>8.443438e-38</td>\n",
              "      <td>1.269435e-28</td>\n",
              "      <td>9.540608e-36</td>\n",
              "      <td>6.956693e-36</td>\n",
              "      <td>1.154032e-31</td>\n",
              "      <td>9.540608e-36</td>\n",
              "      <td>9.540608e-36</td>\n",
              "      <td>9.540608e-36</td>\n",
              "      <td>9.540608e-36</td>\n",
              "      <td>9.540608e-36</td>\n",
              "      <td>9.938133e-38</td>\n",
              "      <td>1.987627e-37</td>\n",
              "      <td>7.754228e-38</td>\n",
              "      <td>7.776092e-38</td>\n",
              "      <td>7.752738e-38</td>\n",
              "      <td>1.987627e-37</td>\n",
              "      <td>8.634548e-39</td>\n",
              "      <td>-7.859528e-38</td>\n",
              "      <td>8.550273e-38</td>\n",
              "      <td>8.672313e-38</td>\n",
              "      <td>8.532384e-38</td>\n",
              "      <td>...</td>\n",
              "      <td>1.189595e-37</td>\n",
              "      <td>4.405574e-38</td>\n",
              "      <td>1.321772e-37</td>\n",
              "      <td>2.981440e-37</td>\n",
              "      <td>1.759050e-37</td>\n",
              "      <td>2.335461e-37</td>\n",
              "      <td>3.110636e-37</td>\n",
              "      <td>6.234191e-38</td>\n",
              "      <td>8.826056e-38</td>\n",
              "      <td>7.361175e-38</td>\n",
              "      <td>1.466073e-37</td>\n",
              "      <td>1.260354e-37</td>\n",
              "      <td>1.084250e-37</td>\n",
              "      <td>2.205272e-39</td>\n",
              "      <td>7.361175e-38</td>\n",
              "      <td>6.781782e-38</td>\n",
              "      <td>3.966309e-38</td>\n",
              "      <td>2.322542e-38</td>\n",
              "      <td>1.777932e-39</td>\n",
              "      <td>1.364506e-37</td>\n",
              "      <td>1.131854e-37</td>\n",
              "      <td>9.392530e-38</td>\n",
              "      <td>2.036820e-39</td>\n",
              "      <td>1.841834e-37</td>\n",
              "      <td>1.798206e-37</td>\n",
              "      <td>-1.185619e-38</td>\n",
              "      <td>-9.143083e-38</td>\n",
              "      <td>-8.844939e-38</td>\n",
              "      <td>-9.123206e-38</td>\n",
              "      <td>-8.844939e-38</td>\n",
              "      <td>-1.768988e-37</td>\n",
              "      <td>1.987627e-37</td>\n",
              "      <td>1.580163e-37</td>\n",
              "      <td>-1.411215e-37</td>\n",
              "      <td>1.262143e-37</td>\n",
              "      <td>5.356654e-39</td>\n",
              "      <td>2.571293e-37</td>\n",
              "      <td>0.000000e+00</td>\n",
              "      <td>0.0</td>\n",
              "      <td>1.291957e-36</td>\n",
              "    </tr>\n",
              "    <tr>\n",
              "      <th>4</th>\n",
              "      <td>8.094612e-37</td>\n",
              "      <td>5.477557e-38</td>\n",
              "      <td>8.728830e-40</td>\n",
              "      <td>7.912027e-36</td>\n",
              "      <td>2.434470e-38</td>\n",
              "      <td>8.104959e-35</td>\n",
              "      <td>2.534283e-35</td>\n",
              "      <td>1.152113e-35</td>\n",
              "      <td>7.909592e-37</td>\n",
              "      <td>8.039837e-37</td>\n",
              "      <td>7.303409e-38</td>\n",
              "      <td>4.693658e-39</td>\n",
              "      <td>4.693658e-39</td>\n",
              "      <td>6.461418e-33</td>\n",
              "      <td>4.693658e-39</td>\n",
              "      <td>4.693658e-39</td>\n",
              "      <td>3.290795e-39</td>\n",
              "      <td>4.733827e-39</td>\n",
              "      <td>5.081347e-39</td>\n",
              "      <td>4.774604e-39</td>\n",
              "      <td>8.170483e-30</td>\n",
              "      <td>5.538419e-37</td>\n",
              "      <td>3.164811e-37</td>\n",
              "      <td>6.199152e-33</td>\n",
              "      <td>5.538419e-37</td>\n",
              "      <td>5.538419e-37</td>\n",
              "      <td>5.538419e-37</td>\n",
              "      <td>5.538419e-37</td>\n",
              "      <td>5.538419e-37</td>\n",
              "      <td>5.274887e-39</td>\n",
              "      <td>8.520644e-38</td>\n",
              "      <td>4.781299e-39</td>\n",
              "      <td>4.711186e-39</td>\n",
              "      <td>4.859634e-39</td>\n",
              "      <td>8.520644e-38</td>\n",
              "      <td>2.736709e-40</td>\n",
              "      <td>-3.335808e-39</td>\n",
              "      <td>5.157729e-39</td>\n",
              "      <td>5.120968e-39</td>\n",
              "      <td>5.192852e-39</td>\n",
              "      <td>...</td>\n",
              "      <td>1.982267e-38</td>\n",
              "      <td>3.487378e-40</td>\n",
              "      <td>5.234110e-39</td>\n",
              "      <td>9.129262e-38</td>\n",
              "      <td>8.285718e-37</td>\n",
              "      <td>8.275980e-37</td>\n",
              "      <td>1.903761e-35</td>\n",
              "      <td>1.833217e-38</td>\n",
              "      <td>3.956013e-39</td>\n",
              "      <td>3.529068e-38</td>\n",
              "      <td>6.221105e-38</td>\n",
              "      <td>5.338792e-38</td>\n",
              "      <td>4.594210e-38</td>\n",
              "      <td>2.811934e-40</td>\n",
              "      <td>3.529068e-38</td>\n",
              "      <td>3.292925e-38</td>\n",
              "      <td>2.092244e-38</td>\n",
              "      <td>1.347418e-38</td>\n",
              "      <td>4.611068e-40</td>\n",
              "      <td>5.931038e-38</td>\n",
              "      <td>4.972465e-38</td>\n",
              "      <td>4.181567e-38</td>\n",
              "      <td>2.893976e-40</td>\n",
              "      <td>7.375652e-38</td>\n",
              "      <td>7.046451e-38</td>\n",
              "      <td>-1.004827e-39</td>\n",
              "      <td>-1.338958e-39</td>\n",
              "      <td>-2.799640e-39</td>\n",
              "      <td>-1.631095e-39</td>\n",
              "      <td>-3.907933e-39</td>\n",
              "      <td>-5.471471e-38</td>\n",
              "      <td>8.520644e-38</td>\n",
              "      <td>3.797773e-38</td>\n",
              "      <td>-2.763123e-38</td>\n",
              "      <td>2.020610e-38</td>\n",
              "      <td>1.111944e-39</td>\n",
              "      <td>5.630320e-39</td>\n",
              "      <td>0.000000e+00</td>\n",
              "      <td>0.0</td>\n",
              "      <td>4.260322e-38</td>\n",
              "    </tr>\n",
              "  </tbody>\n",
              "</table>\n",
              "<p>5 rows × 758 columns</p>\n",
              "</div>"
            ],
            "text/plain": [
              "             f1            f2            f3  ...          f776  f777          f778\n",
              "0  7.060048e-36  5.786925e-37  2.660674e-38  ...  0.000000e+00   0.0  2.968692e-35\n",
              "1  2.121051e-37  3.366747e-39  7.085161e-40  ...  1.683374e-39   0.0  3.366747e-39\n",
              "2  5.413113e-36  4.093951e-37  3.439356e-38  ...  4.548835e-38   0.0  1.792241e-35\n",
              "3  1.272081e-35  7.950507e-37  1.270527e-39  ...  0.000000e+00   0.0  1.291957e-36\n",
              "4  8.094612e-37  5.477557e-38  8.728830e-40  ...  0.000000e+00   0.0  4.260322e-38\n",
              "\n",
              "[5 rows x 758 columns]"
            ]
          },
          "metadata": {},
          "execution_count": 56
        }
      ]
    },
    {
      "cell_type": "markdown",
      "metadata": {
        "id": "N3yDW7fzC17R"
      },
      "source": [
        "## Feature selection"
      ]
    },
    {
      "cell_type": "code",
      "metadata": {
        "id": "OQs_gMuEtsqd"
      },
      "source": [
        ""
      ],
      "execution_count": null,
      "outputs": []
    },
    {
      "cell_type": "markdown",
      "metadata": {
        "id": "ywToHg4SSeQD"
      },
      "source": [
        "Т.к. в датасете около 700 признаков, то попробуем снизить это число; поищем важные признаки в обучающей выборке"
      ]
    },
    {
      "cell_type": "markdown",
      "metadata": {
        "id": "lNMrtlPeC82g"
      },
      "source": [
        "Проведем отбор признаков с помощью SelectPercentile, где мы задали найти лучшие признаки (лучше 10-ой перцентили)\n",
        "\n",
        "f-classif считает ANOVA F-value между признаком и целевой переменной (проверка значимости различия между средними в группах  с помощью сравнения дисперсий этих групп).\n",
        "Выбрана эта функция, т.к. у нас задача классификации"
      ]
    },
    {
      "cell_type": "code",
      "metadata": {
        "colab": {
          "base_uri": "https://localhost:8080/"
        },
        "id": "D73KuAc1_a5D",
        "outputId": "d42f8bd8-feea-427d-d0a0-d96820d41aa5"
      },
      "source": [
        "selection = SelectPercentile(f_classif,10)\n",
        "selection.fit_transform(x_train, y_train)"
      ],
      "execution_count": null,
      "outputs": [
        {
          "output_type": "execute_result",
          "data": {
            "text/plain": [
              "array([[0.00000000e+00, 4.90473286e-31, 5.63785164e-28, ...,\n",
              "        2.96105360e-37, 2.62651149e-37, 3.99297800e-38],\n",
              "       [0.00000000e+00, 3.24107535e-30, 7.44051186e-26, ...,\n",
              "        3.49954880e-38, 3.34887002e-38, 9.89823750e-39],\n",
              "       [0.00000000e+00, 1.00137740e-28, 1.44652948e-24, ...,\n",
              "        8.16652321e-38, 7.88176615e-38, 3.59357953e-38],\n",
              "       ...,\n",
              "       [0.00000000e+00, 2.87994565e-32, 1.62889240e-28, ...,\n",
              "        7.09111156e-40, 6.09336067e-40, 1.86779661e-40],\n",
              "       [0.00000000e+00, 4.49188972e-31, 1.90809050e-27, ...,\n",
              "        4.28480966e-38, 3.84701344e-38, 5.81435302e-39],\n",
              "       [0.00000000e+00, 5.76851666e-30, 4.00357958e-25, ...,\n",
              "        6.16246901e-39, 5.88998049e-39, 1.35427207e-39]])"
            ]
          },
          "metadata": {},
          "execution_count": 57
        }
      ]
    },
    {
      "cell_type": "code",
      "metadata": {
        "id": "v1PsyAhkB2nX",
        "colab": {
          "base_uri": "https://localhost:8080/"
        },
        "outputId": "5919f656-918b-494e-f37c-02e3f2e15a40"
      },
      "source": [
        "chosen_clms = selection.get_support(indices=True)\n",
        "clm_names = x_train.iloc[:,chosen_clms].columns.values\n",
        "clm_names"
      ],
      "execution_count": null,
      "outputs": [
        {
          "output_type": "execute_result",
          "data": {
            "text/plain": [
              "array(['f103', 'f205', 'f206', 'f207', 'f277', 'f290', 'f291', 'f292',\n",
              "       'f293', 'f294', 'f295', 'f296', 'f297', 'f298', 'f299', 'f300',\n",
              "       'f301', 'f302', 'f303', 'f304', 'f305', 'f306', 'f307', 'f308',\n",
              "       'f309', 'f310', 'f311', 'f312', 'f313', 'f314', 'f315', 'f316',\n",
              "       'f317', 'f318', 'f319', 'f320', 'f321', 'f322', 'f323', 'f324',\n",
              "       'f325', 'f326', 'f327', 'f328', 'f329', 'f346', 'f347', 'f355',\n",
              "       'f364', 'f372', 'f390', 'f392', 'f421', 'f422', 'f515', 'f537',\n",
              "       'f587', 'f592', 'f626', 'f628', 'f687', 'f692', 'f695', 'f698',\n",
              "       'f704', 'f705', 'f709', 'f719', 'f720', 'f721', 'f744', 'f747',\n",
              "       'f752', 'f761', 'f762', 'f773'], dtype=object)"
            ]
          },
          "metadata": {},
          "execution_count": 58
        }
      ]
    },
    {
      "cell_type": "markdown",
      "metadata": {
        "id": "byTD0ttzATND"
      },
      "source": [
        "Получили 76 важных признаков"
      ]
    },
    {
      "cell_type": "code",
      "metadata": {
        "colab": {
          "base_uri": "https://localhost:8080/"
        },
        "id": "wKhsCmabDSTQ",
        "outputId": "f6d3e1ca-6340-476c-e6d6-1b300acdc36d"
      },
      "source": [
        "x_train_76 = x_train.iloc[:,chosen_clms].copy()\n",
        "x_test_76 = x_test.iloc[:,chosen_clms].copy()\n",
        "x_train_76.shape"
      ],
      "execution_count": null,
      "outputs": [
        {
          "output_type": "execute_result",
          "data": {
            "text/plain": [
              "(73705, 76)"
            ]
          },
          "metadata": {},
          "execution_count": 59
        }
      ]
    },
    {
      "cell_type": "markdown",
      "metadata": {
        "id": "vkLbeErRDa6t"
      },
      "source": [
        "## Random Forest"
      ]
    },
    {
      "cell_type": "markdown",
      "metadata": {
        "id": "MT21i7RCQXta"
      },
      "source": [
        "Для классификации на несбалансированном датасете проверим случайный лес.\n",
        "\n",
        "Для начала построим первую модель со случайно выбранными параметрами"
      ]
    },
    {
      "cell_type": "code",
      "metadata": {
        "id": "XhLvLV9U0N6r"
      },
      "source": [
        "model = RandomForestClassifier(n_estimators = 30,max_features='auto',max_depth=5,criterion='gini')\n",
        "model.fit(x_train, y_train)\n",
        "\n",
        "model_pred = model.predict(x_test)"
      ],
      "execution_count": null,
      "outputs": []
    },
    {
      "cell_type": "markdown",
      "metadata": {
        "id": "fcSXJJr9RzcY"
      },
      "source": [
        "Оценим, что у нас получилось, с помощью **roc auc**  и **f1**\n",
        "\n",
        "НЕ используем accuracy, тк у нас 90% одного класса, т.е. при 90% accuracy мы просто предсказываем одни нули и думаем, что достигли лучшего результата"
      ]
    },
    {
      "cell_type": "markdown",
      "metadata": {
        "id": "kFgsNO_IRLS0"
      },
      "source": [
        "AUC ROC равен доле пар объектов вида (объект класса 1, объект класса 0), которые алгоритм верно упорядочил. (Площадь под кривой)\n",
        "\n",
        "ROC-кривая показывает зависимость TPR от FPR при варьировании порога. "
      ]
    },
    {
      "cell_type": "code",
      "metadata": {
        "colab": {
          "base_uri": "https://localhost:8080/"
        },
        "id": "svhSS_LP0N6r",
        "outputId": "d82de256-4222-4fb7-9286-8a48e886551d"
      },
      "source": [
        "roc_auc_score(y_test, model.predict_proba(x_test)[:,1])"
      ],
      "execution_count": null,
      "outputs": [
        {
          "output_type": "execute_result",
          "data": {
            "text/plain": [
              "0.5119373712251485"
            ]
          },
          "metadata": {},
          "execution_count": 61
        }
      ]
    },
    {
      "cell_type": "markdown",
      "metadata": {
        "id": "S1lsVbbGRx22"
      },
      "source": [
        "F1-мера (F1 score) является средним гармоническим точности и полноты"
      ]
    },
    {
      "cell_type": "code",
      "metadata": {
        "colab": {
          "base_uri": "https://localhost:8080/"
        },
        "id": "CwhZMJ5c0N6r",
        "outputId": "40614578-2b76-4be5-8b93-14573c8a9d35"
      },
      "source": [
        "f1_score(y_true = y_test,y_pred=model_pred)"
      ],
      "execution_count": null,
      "outputs": [
        {
          "output_type": "execute_result",
          "data": {
            "text/plain": [
              "0.0"
            ]
          },
          "metadata": {},
          "execution_count": 62
        }
      ]
    },
    {
      "cell_type": "markdown",
      "metadata": {
        "id": "O2ns9dZCTQKs"
      },
      "source": [
        "Получается, полнота или точность равны нулю. В любом случае, получился плохой классификатор"
      ]
    },
    {
      "cell_type": "code",
      "metadata": {
        "id": "Izii38M-Lyag",
        "colab": {
          "base_uri": "https://localhost:8080/"
        },
        "outputId": "0db71514-8731-4ed6-c71d-e3ffd3011427"
      },
      "source": [
        "model.feature_importances_.nonzero()"
      ],
      "execution_count": null,
      "outputs": [
        {
          "output_type": "execute_result",
          "data": {
            "text/plain": [
              "(array([383, 462, 525, 612]),)"
            ]
          },
          "metadata": {},
          "execution_count": 64
        }
      ]
    },
    {
      "cell_type": "markdown",
      "metadata": {
        "id": "7lpzY9-CTUBE"
      },
      "source": [
        "Зато, несмотря на несбалансированность, мы не предсказали везде 0."
      ]
    },
    {
      "cell_type": "markdown",
      "metadata": {
        "id": "QdbkwK6wTZwB"
      },
      "source": [
        "\n",
        "\n",
        "---\n",
        "### Попробуем сделать получше\n",
        "Посмотрим наилучшие параметры на датасете с 76 лучшими признаками:"
      ]
    },
    {
      "cell_type": "code",
      "metadata": {
        "id": "NGuc8Dmk2BfM"
      },
      "source": [
        "param_grid = { \n",
        "    'n_estimators': [30, 50],\n",
        "    'max_features': ['auto', 'sqrt', 'log2'],\n",
        "    'max_depth' : [5,6,7,8],\n",
        "    'criterion' :['gini', 'entropy']\n",
        "}\n",
        "model = RandomForestClassifier()"
      ],
      "execution_count": null,
      "outputs": []
    },
    {
      "cell_type": "code",
      "metadata": {
        "colab": {
          "base_uri": "https://localhost:8080/"
        },
        "id": "7IWJjyXW2BfM",
        "outputId": "f233b749-ab57-454b-a300-2db82c011998"
      },
      "source": [
        "CV_rfc = GridSearchCV(estimator=model, param_grid=param_grid, cv= 5,scoring='f1')\n",
        "CV_rfc.fit(x_train_76, y_train)"
      ],
      "execution_count": null,
      "outputs": [
        {
          "output_type": "execute_result",
          "data": {
            "text/plain": [
              "GridSearchCV(cv=5, error_score=nan,\n",
              "             estimator=RandomForestClassifier(bootstrap=True, ccp_alpha=0.0,\n",
              "                                              class_weight=None,\n",
              "                                              criterion='gini', max_depth=None,\n",
              "                                              max_features='auto',\n",
              "                                              max_leaf_nodes=None,\n",
              "                                              max_samples=None,\n",
              "                                              min_impurity_decrease=0.0,\n",
              "                                              min_impurity_split=None,\n",
              "                                              min_samples_leaf=1,\n",
              "                                              min_samples_split=2,\n",
              "                                              min_weight_fraction_leaf=0.0,\n",
              "                                              n_estimators=100, n_jobs=None,\n",
              "                                              oob_score=False,\n",
              "                                              random_state=None, verbose=0,\n",
              "                                              warm_start=False),\n",
              "             iid='deprecated', n_jobs=None,\n",
              "             param_grid={'criterion': ['gini', 'entropy'],\n",
              "                         'max_depth': [5, 6, 7, 8],\n",
              "                         'max_features': ['auto', 'sqrt', 'log2'],\n",
              "                         'n_estimators': [30, 50]},\n",
              "             pre_dispatch='2*n_jobs', refit=True, return_train_score=False,\n",
              "             scoring='f1', verbose=0)"
            ]
          },
          "metadata": {},
          "execution_count": 128
        }
      ]
    },
    {
      "cell_type": "code",
      "metadata": {
        "colab": {
          "base_uri": "https://localhost:8080/"
        },
        "id": "PpUmYBpZ2BfM",
        "outputId": "44d836f4-04d6-4945-cb06-3f5394ddc7b3"
      },
      "source": [
        "CV_rfc.best_params_"
      ],
      "execution_count": null,
      "outputs": [
        {
          "output_type": "execute_result",
          "data": {
            "text/plain": [
              "{'criterion': 'gini',\n",
              " 'max_depth': 5,\n",
              " 'max_features': 'auto',\n",
              " 'n_estimators': 30}"
            ]
          },
          "metadata": {},
          "execution_count": 129
        }
      ]
    },
    {
      "cell_type": "code",
      "metadata": {
        "id": "FDi6mwPmOPD2"
      },
      "source": [
        "model = RandomForestClassifier(n_estimators = 30,max_features='auto',max_depth=5,criterion='gini')\n",
        "model.fit(x_train_76, y_train)\n",
        "\n",
        "model_pred = model.predict(x_test_76)"
      ],
      "execution_count": null,
      "outputs": []
    },
    {
      "cell_type": "code",
      "metadata": {
        "colab": {
          "base_uri": "https://localhost:8080/"
        },
        "id": "FNK-ksrh1p6v",
        "outputId": "faa0a28a-a515-4367-a177-06df54661809"
      },
      "source": [
        "model.feature_importances_"
      ],
      "execution_count": null,
      "outputs": [
        {
          "output_type": "execute_result",
          "data": {
            "text/plain": [
              "array([0.        , 0.        , 0.        , 0.        , 0.        ,\n",
              "       0.        , 0.        , 0.        , 0.        , 0.        ,\n",
              "       0.        , 0.        , 0.        , 0.        , 0.        ,\n",
              "       0.        , 0.        , 0.        , 0.        , 0.        ,\n",
              "       0.        , 0.        , 0.        , 0.        , 0.        ,\n",
              "       0.        , 0.        , 0.        , 0.        , 0.        ,\n",
              "       0.        , 0.        , 0.        , 0.        , 0.        ,\n",
              "       0.        , 0.        , 0.        , 0.        , 0.        ,\n",
              "       0.        , 0.        , 0.        , 0.        , 0.        ,\n",
              "       0.        , 0.        , 0.        , 0.36835994, 0.        ,\n",
              "       0.        , 0.        , 0.        , 0.        , 0.27764304,\n",
              "       0.        , 0.        , 0.        , 0.        , 0.        ,\n",
              "       0.35399702, 0.        , 0.        , 0.        , 0.        ,\n",
              "       0.        , 0.        , 0.        , 0.        , 0.        ,\n",
              "       0.        , 0.        , 0.        , 0.        , 0.        ,\n",
              "       0.        ])"
            ]
          },
          "metadata": {},
          "execution_count": 132
        }
      ]
    },
    {
      "cell_type": "code",
      "metadata": {
        "colab": {
          "base_uri": "https://localhost:8080/"
        },
        "id": "Ui18b-R67N4E",
        "outputId": "49bb3984-77c8-4010-8bbd-6559be32e119"
      },
      "source": [
        "roc_auc_score(y_test, model.predict_proba(x_test_76)[:,1])"
      ],
      "execution_count": null,
      "outputs": [
        {
          "output_type": "execute_result",
          "data": {
            "text/plain": [
              "0.5127340258919205"
            ]
          },
          "metadata": {},
          "execution_count": 133
        }
      ]
    },
    {
      "cell_type": "code",
      "metadata": {
        "id": "86e3RFZNO_hq",
        "colab": {
          "base_uri": "https://localhost:8080/"
        },
        "outputId": "94cc7bc8-39bd-4d9d-9ef9-4d80301dfe23"
      },
      "source": [
        "f1_score(y_true = y_test,y_pred=model_pred)"
      ],
      "execution_count": null,
      "outputs": [
        {
          "output_type": "execute_result",
          "data": {
            "text/plain": [
              "0.0"
            ]
          },
          "metadata": {},
          "execution_count": 134
        }
      ]
    },
    {
      "cell_type": "markdown",
      "metadata": {
        "id": "Q8XKq7Qh5GhO"
      },
      "source": [
        "Такое высокое значение могло бы быть, если мы везде предсказывали \"0\"?"
      ]
    },
    {
      "cell_type": "code",
      "metadata": {
        "colab": {
          "base_uri": "https://localhost:8080/"
        },
        "id": "B9EqiWAT3j6o",
        "outputId": "1687aeff-949e-4876-90c3-09d72d97f03d"
      },
      "source": [
        "y_test.value_counts(normalize=True)"
      ],
      "execution_count": null,
      "outputs": [
        {
          "output_type": "execute_result",
          "data": {
            "text/plain": [
              "0    0.90736\n",
              "1    0.09264\n",
              "Name: loan_status, dtype: float64"
            ]
          },
          "metadata": {},
          "execution_count": 106
        }
      ]
    },
    {
      "cell_type": "code",
      "metadata": {
        "colab": {
          "base_uri": "https://localhost:8080/"
        },
        "id": "unuSnpp039lo",
        "outputId": "da39bedb-c325-4756-fbfe-6d10c7188b7b"
      },
      "source": [
        "model_pred.nonzero()"
      ],
      "execution_count": null,
      "outputs": [
        {
          "output_type": "execute_result",
          "data": {
            "text/plain": [
              "(array([   65,   323,   719,  1307,  1321,  2573,  2636,  2650,  3735,\n",
              "         3782,  6610,  6761,  8815,  9256,  9331,  9724, 12295, 12710,\n",
              "        14535, 14777, 14854, 15687, 16239, 17109, 17303, 18161, 18745,\n",
              "        19389, 20322, 20506, 20621, 23373, 24375, 25724, 26473, 27222,\n",
              "        27240, 30473]),)"
            ]
          },
          "metadata": {},
          "execution_count": 109
        }
      ]
    },
    {
      "cell_type": "markdown",
      "metadata": {
        "id": "hkKetTk8-Umh"
      },
      "source": [
        "# With undersampling"
      ]
    },
    {
      "cell_type": "markdown",
      "metadata": {
        "id": "7bNLMgOuUMhi"
      },
      "source": [
        "Попробуем исправить ситуацию!\n",
        "\n",
        "Есть несколько вариантов: либо добавляем данные в маленький класс или убираем из большого класса. Т.к. у нас около 100 000 записей, то будем удалять."
      ]
    },
    {
      "cell_type": "markdown",
      "metadata": {
        "id": "WrgkCq2MJKaA"
      },
      "source": [
        "## Random undersampling"
      ]
    },
    {
      "cell_type": "markdown",
      "metadata": {
        "id": "dAyFhEEdUbMT"
      },
      "source": [
        "Будем случайно отбирать записи для удаления, относящиеся к классу 0"
      ]
    },
    {
      "cell_type": "code",
      "metadata": {
        "colab": {
          "base_uri": "https://localhost:8080/",
          "height": 287
        },
        "id": "5aPMP5kKJh3O",
        "outputId": "a3a2567e-d81a-447e-ffad-d608a02a0e41"
      },
      "source": [
        "df['loan_status'].hist()"
      ],
      "execution_count": null,
      "outputs": [
        {
          "output_type": "execute_result",
          "data": {
            "text/plain": [
              "<matplotlib.axes._subplots.AxesSubplot at 0x7f48c8c057d0>"
            ]
          },
          "metadata": {},
          "execution_count": 65
        },
        {
          "output_type": "display_data",
          "data": {
            "image/png": "[encoded data removed]",
            "text/plain": [
              "<Figure size 360x288 with 1 Axes>"
            ]
          },
          "metadata": {
            "needs_background": "light"
          }
        }
      ]
    },
    {
      "cell_type": "code",
      "metadata": {
        "colab": {
          "base_uri": "https://localhost:8080/"
        },
        "id": "xr-LLFbx-Y60",
        "outputId": "a039874e-4db3-4333-a733-bdd827b9b8d3"
      },
      "source": [
        "class_0 = df[df['loan_status'] == 0]\n",
        "class_1 = df[df['loan_status'] == 1]\n",
        "class_1.shape,class_0.shape"
      ],
      "execution_count": null,
      "outputs": [
        {
          "output_type": "execute_result",
          "data": {
            "text/plain": [
              "((9777, 761), (95517, 761))"
            ]
          },
          "metadata": {},
          "execution_count": 66
        }
      ]
    },
    {
      "cell_type": "markdown",
      "metadata": {
        "id": "YzvVg7wBJNZZ"
      },
      "source": [
        "Оставим 9 642 случайных записи из датафрейма с дефолтом по кредиту"
      ]
    },
    {
      "cell_type": "code",
      "metadata": {
        "colab": {
          "base_uri": "https://localhost:8080/"
        },
        "id": "muv5u6X3Iq2G",
        "outputId": "669bd3ed-fcf8-4ca9-a76d-2e8ad29a913c"
      },
      "source": [
        "class_0_under = class_0.sample(class_1.shape[0])\n",
        "\n",
        "df_under = pd.concat([class_0_under, class_1], axis=0)\n",
        "\n",
        "print(\"total class of 1 and0:\\n\",df_under['loan_status'].value_counts())"
      ],
      "execution_count": null,
      "outputs": [
        {
          "output_type": "stream",
          "name": "stdout",
          "text": [
            "total class of 1 and0:\n",
            " 1    9777\n",
            "0    9777\n",
            "Name: loan_status, dtype: int64\n"
          ]
        }
      ]
    },
    {
      "cell_type": "code",
      "metadata": {
        "colab": {
          "base_uri": "https://localhost:8080/",
          "height": 283
        },
        "id": "WJkWWOMgJzeR",
        "outputId": "cc810769-b119-4ad8-8de2-75c70b604d79"
      },
      "source": [
        "df_under['loan_status'].hist()"
      ],
      "execution_count": null,
      "outputs": [
        {
          "output_type": "execute_result",
          "data": {
            "text/plain": [
              "<matplotlib.axes._subplots.AxesSubplot at 0x7f4900993dd0>"
            ]
          },
          "metadata": {},
          "execution_count": 68
        },
        {
          "output_type": "display_data",
          "data": {
            "image/png": "[encoded data removed]",
            "text/plain": [
              "<Figure size 360x288 with 1 Axes>"
            ]
          },
          "metadata": {
            "needs_background": "light"
          }
        }
      ]
    },
    {
      "cell_type": "markdown",
      "metadata": {
        "id": "x9G9fXISJ_V2"
      },
      "source": [
        "## Train-test-split + Scaling + Feature selection"
      ]
    },
    {
      "cell_type": "markdown",
      "metadata": {
        "id": "IaICODHVUnlr"
      },
      "source": [
        "Проделаем те же манипуляции по подготовке данных"
      ]
    },
    {
      "cell_type": "code",
      "metadata": {
        "id": "ogGNNW9qKAEf"
      },
      "source": [
        "# splitting\n",
        "x_train_u, x_test_u, y_train_u, y_test_u = train_test_split(df_under.iloc[:,1:-2],df_under.iloc[:,-1],test_size=0.3)\n",
        "\n",
        "#normalizing\n",
        "normalizer = Normalizer()\n",
        "x_train_u = pd.DataFrame(normalizer.fit_transform(x_train_u),columns=x_train_u.columns)\n",
        "x_test_u = pd.DataFrame(normalizer.transform(x_test_u),columns=x_train_u.columns)"
      ],
      "execution_count": null,
      "outputs": []
    },
    {
      "cell_type": "code",
      "metadata": {
        "colab": {
          "base_uri": "https://localhost:8080/"
        },
        "id": "1LiC3fJjeae6",
        "outputId": "d58c7625-64a0-45ce-ea25-f364c86458c7"
      },
      "source": [
        "# feature selection\n",
        "selection_u = SelectPercentile(f_classif,10)\n",
        "selection_u.fit_transform(x_train_u, y_train_u)\n",
        "\n",
        "chosen_clms_u = selection_u.get_support(indices=True)\n",
        "clm_names_u = x_train_u.iloc[:,chosen_clms_u].columns.values\n",
        "clm_names_u"
      ],
      "execution_count": null,
      "outputs": [
        {
          "output_type": "execute_result",
          "data": {
            "text/plain": [
              "array(['f93', 'f113', 'f123', 'f162', 'f206', 'f207', 'f232', 'f252',\n",
              "       'f277', 'f290', 'f291', 'f292', 'f293', 'f294', 'f295', 'f296',\n",
              "       'f297', 'f298', 'f299', 'f300', 'f301', 'f302', 'f303', 'f304',\n",
              "       'f305', 'f314', 'f315', 'f316', 'f317', 'f318', 'f319', 'f320',\n",
              "       'f321', 'f322', 'f323', 'f324', 'f325', 'f326', 'f327', 'f328',\n",
              "       'f332', 'f333', 'f334', 'f346', 'f347', 'f355', 'f364', 'f372',\n",
              "       'f384', 'f390', 'f392', 'f422', 'f432', 'f530', 'f537', 'f541',\n",
              "       'f551', 'f561', 'f571', 'f580', 'f626', 'f628', 'f660', 'f687',\n",
              "       'f704', 'f705', 'f709', 'f719', 'f720', 'f721', 'f747', 'f749',\n",
              "       'f752', 'f758', 'f762', 'f765'], dtype=object)"
            ]
          },
          "metadata": {},
          "execution_count": 71
        }
      ]
    },
    {
      "cell_type": "code",
      "metadata": {
        "colab": {
          "base_uri": "https://localhost:8080/"
        },
        "id": "QFDGusyuK8x-",
        "outputId": "5fadf39b-4be4-4cbc-dc38-8b3c75e741b1"
      },
      "source": [
        "x_train_u_76 = x_train_u.iloc[:,chosen_clms_u].copy()\n",
        "x_test_u_76 = x_test_u.iloc[:,chosen_clms_u].copy()\n",
        "x_train_u_76.shape"
      ],
      "execution_count": null,
      "outputs": [
        {
          "output_type": "execute_result",
          "data": {
            "text/plain": [
              "(13687, 76)"
            ]
          },
          "metadata": {},
          "execution_count": 72
        }
      ]
    },
    {
      "cell_type": "markdown",
      "metadata": {
        "id": "YLJW4KnpU1ST"
      },
      "source": [
        "В итоге получили 76 признаков"
      ]
    },
    {
      "cell_type": "markdown",
      "metadata": {
        "id": "W4REVo9WfFTr"
      },
      "source": [
        "## Random forest"
      ]
    },
    {
      "cell_type": "markdown",
      "metadata": {
        "id": "io3OemRLU500"
      },
      "source": [
        "Начнем искать идеальную комбинацию гиперпараметров"
      ]
    },
    {
      "cell_type": "code",
      "metadata": {
        "id": "EGB367Fa0_vu"
      },
      "source": [
        "param_grid_u = { \n",
        "    'n_estimators': [5, 30],\n",
        "    'max_features': ['auto', 'sqrt', 'log2'],\n",
        "    'max_depth' : [5,6,7,8],\n",
        "    'criterion' :['gini', 'entropy']\n",
        "}\n",
        "model_u = RandomForestClassifier()"
      ],
      "execution_count": null,
      "outputs": []
    },
    {
      "cell_type": "code",
      "metadata": {
        "colab": {
          "base_uri": "https://localhost:8080/"
        },
        "id": "MQ8bQQQz082P",
        "outputId": "0456cba4-bd2b-47c8-aba7-c06981bb0cd9"
      },
      "source": [
        "CV_rfc_u = GridSearchCV(estimator=model_u, param_grid=param_grid_u, cv= 5,scoring='f1')\n",
        "CV_rfc_u.fit(x_train_u_76, y_train_u)"
      ],
      "execution_count": null,
      "outputs": [
        {
          "output_type": "execute_result",
          "data": {
            "text/plain": [
              "GridSearchCV(cv=5, error_score=nan,\n",
              "             estimator=RandomForestClassifier(bootstrap=True, ccp_alpha=0.0,\n",
              "                                              class_weight=None,\n",
              "                                              criterion='gini', max_depth=None,\n",
              "                                              max_features='auto',\n",
              "                                              max_leaf_nodes=None,\n",
              "                                              max_samples=None,\n",
              "                                              min_impurity_decrease=0.0,\n",
              "                                              min_impurity_split=None,\n",
              "                                              min_samples_leaf=1,\n",
              "                                              min_samples_split=2,\n",
              "                                              min_weight_fraction_leaf=0.0,\n",
              "                                              n_estimators=100, n_jobs=None,\n",
              "                                              oob_score=False,\n",
              "                                              random_state=None, verbose=0,\n",
              "                                              warm_start=False),\n",
              "             iid='deprecated', n_jobs=None,\n",
              "             param_grid={'criterion': ['gini', 'entropy'],\n",
              "                         'max_depth': [5, 6, 7, 8],\n",
              "                         'max_features': ['auto', 'sqrt', 'log2'],\n",
              "                         'n_estimators': [5, 30]},\n",
              "             pre_dispatch='2*n_jobs', refit=True, return_train_score=False,\n",
              "             scoring='f1', verbose=0)"
            ]
          },
          "metadata": {},
          "execution_count": 79
        }
      ]
    },
    {
      "cell_type": "code",
      "metadata": {
        "colab": {
          "base_uri": "https://localhost:8080/"
        },
        "id": "B5o54YkPfGl3",
        "outputId": "d541ac00-3082-498b-d196-1f6a3a01f051"
      },
      "source": [
        "CV_rfc_u.best_params_"
      ],
      "execution_count": null,
      "outputs": [
        {
          "output_type": "execute_result",
          "data": {
            "text/plain": [
              "{'criterion': 'entropy',\n",
              " 'max_depth': 5,\n",
              " 'max_features': 'auto',\n",
              " 'n_estimators': 5}"
            ]
          },
          "metadata": {},
          "execution_count": 80
        }
      ]
    },
    {
      "cell_type": "code",
      "metadata": {
        "id": "p29eEcz1L4ZU"
      },
      "source": [
        "model_u = RandomForestClassifier(n_estimators = 5,max_features='auto',max_depth=5,criterion='entropy')\n",
        "model_u.fit(x_train_u_76, y_train_u)\n",
        "\n",
        "model_u_pred = model_u.predict(x_test_u_76)"
      ],
      "execution_count": null,
      "outputs": []
    },
    {
      "cell_type": "code",
      "metadata": {
        "colab": {
          "base_uri": "https://localhost:8080/"
        },
        "id": "rvMeutGPMQMR",
        "outputId": "258a39a2-0112-400b-95ac-c12296fa9115"
      },
      "source": [
        "model_u.feature_importances_"
      ],
      "execution_count": null,
      "outputs": [
        {
          "output_type": "execute_result",
          "data": {
            "text/plain": [
              "array([0., 0., 0., 0., 0., 0., 0., 0., 0., 0., 0., 0., 0., 0., 0., 0., 0.,\n",
              "       0., 0., 0., 0., 0., 0., 0., 0., 0., 0., 0., 0., 0., 0., 0., 0., 0.,\n",
              "       0., 0., 0., 0., 0., 0., 0., 0., 0., 0., 0., 0., 0., 0., 0., 0., 0.,\n",
              "       0., 0., 0., 1., 0., 0., 0., 0., 0., 0., 0., 0., 0., 0., 0., 0., 0.,\n",
              "       0., 0., 0., 0., 0., 0., 0., 0.])"
            ]
          },
          "metadata": {},
          "execution_count": 88
        }
      ]
    },
    {
      "cell_type": "code",
      "metadata": {
        "colab": {
          "base_uri": "https://localhost:8080/"
        },
        "id": "ZufT_2SAWVRe",
        "outputId": "22d2a552-9184-4c18-d079-b0b0fa72ea31"
      },
      "source": [
        "f1_score(y_true = y_test_u,y_pred=model_u_pred)"
      ],
      "execution_count": null,
      "outputs": [
        {
          "output_type": "execute_result",
          "data": {
            "text/plain": [
              "0.06142903330100225"
            ]
          },
          "metadata": {},
          "execution_count": 89
        }
      ]
    },
    {
      "cell_type": "code",
      "metadata": {
        "colab": {
          "base_uri": "https://localhost:8080/"
        },
        "id": "1RFiMgpfXiuF",
        "outputId": "3e56e83f-698f-4439-d51b-a5116e309d4e"
      },
      "source": [
        "roc_auc_score(y_test_u, model_u.predict_proba(x_test_u_76)[:,1])"
      ],
      "execution_count": null,
      "outputs": [
        {
          "output_type": "execute_result",
          "data": {
            "text/plain": [
              "0.5022607605321843"
            ]
          },
          "metadata": {},
          "execution_count": 90
        }
      ]
    },
    {
      "cell_type": "markdown",
      "metadata": {
        "id": "vRFXvZ4DSXHD"
      },
      "source": [
        "\n",
        "\n",
        "---\n",
        "\n",
        "\n",
        "Видимо, признаки попались нехорошие.\n",
        "\n",
        "Построим лес со всеми изначальными признаками"
      ]
    },
    {
      "cell_type": "code",
      "metadata": {
        "id": "HGG5pheGScIl"
      },
      "source": [
        "model_u = RandomForestClassifier(n_estimators = 30,max_features='auto',max_depth=5,criterion='gini')\n",
        "model_u.fit(x_train_u, y_train_u)\n",
        "\n",
        "model_u_pred = model_u.predict(x_test_u)"
      ],
      "execution_count": null,
      "outputs": []
    },
    {
      "cell_type": "code",
      "metadata": {
        "colab": {
          "base_uri": "https://localhost:8080/"
        },
        "id": "bVkyNMpfTEv1",
        "outputId": "3d7a5b22-3f0b-42d1-edb0-216765a43408"
      },
      "source": [
        "f1_score(y_true = y_test_u,y_pred=model_u_pred)"
      ],
      "execution_count": null,
      "outputs": [
        {
          "output_type": "execute_result",
          "data": {
            "text/plain": [
              "0.5533536585365854"
            ]
          },
          "metadata": {},
          "execution_count": 92
        }
      ]
    },
    {
      "cell_type": "code",
      "metadata": {
        "colab": {
          "base_uri": "https://localhost:8080/"
        },
        "id": "o2PoxIBLXdy6",
        "outputId": "fd6765f0-eeed-4db1-f1e8-81814de43567"
      },
      "source": [
        "roc_auc_score(y_test_u, model_u.predict_proba(x_test_u)[:,1])"
      ],
      "execution_count": null,
      "outputs": [
        {
          "output_type": "execute_result",
          "data": {
            "text/plain": [
              "0.5045991477335453"
            ]
          },
          "metadata": {},
          "execution_count": 93
        }
      ]
    },
    {
      "cell_type": "markdown",
      "metadata": {
        "id": "Ke1FFagmT7Ro"
      },
      "source": [
        "Воспользуемся информацией от самого леса насчет лучших признаков и задействуем их"
      ]
    },
    {
      "cell_type": "code",
      "metadata": {
        "colab": {
          "base_uri": "https://localhost:8080/"
        },
        "id": "-vyKZkWnSnT4",
        "outputId": "8474649e-27f2-4ecc-89a7-d70c35d76f9e"
      },
      "source": [
        "model_u.feature_importances_.nonzero()"
      ],
      "execution_count": null,
      "outputs": [
        {
          "output_type": "execute_result",
          "data": {
            "text/plain": [
              "(array([383, 462, 525, 612]),)"
            ]
          },
          "metadata": {},
          "execution_count": 94
        }
      ]
    },
    {
      "cell_type": "code",
      "metadata": {
        "colab": {
          "base_uri": "https://localhost:8080/",
          "height": 418
        },
        "id": "9Z3PA1QvTjJs",
        "outputId": "48d88b04-23d5-4f66-fbd6-7e0efc850c1e"
      },
      "source": [
        "x_train_u.iloc[:,[383, 462, 525, 612]]"
      ],
      "execution_count": null,
      "outputs": [
        {
          "output_type": "execute_result",
          "data": {
            "text/html": [
              "<div>\n",
              "<style scoped>\n",
              "    .dataframe tbody tr th:only-of-type {\n",
              "        vertical-align: middle;\n",
              "    }\n",
              "\n",
              "    .dataframe tbody tr th {\n",
              "        vertical-align: top;\n",
              "    }\n",
              "\n",
              "    .dataframe thead th {\n",
              "        text-align: right;\n",
              "    }\n",
              "</style>\n",
              "<table border=\"1\" class=\"dataframe\">\n",
              "  <thead>\n",
              "    <tr style=\"text-align: right;\">\n",
              "      <th></th>\n",
              "      <th>f391</th>\n",
              "      <th>f472</th>\n",
              "      <th>f537</th>\n",
              "      <th>f627</th>\n",
              "    </tr>\n",
              "  </thead>\n",
              "  <tbody>\n",
              "    <tr>\n",
              "      <th>0</th>\n",
              "      <td>0.489636</td>\n",
              "      <td>1.474244e-18</td>\n",
              "      <td>4.290814e-13</td>\n",
              "      <td>0.871927</td>\n",
              "    </tr>\n",
              "    <tr>\n",
              "      <th>1</th>\n",
              "      <td>0.582451</td>\n",
              "      <td>8.961897e-15</td>\n",
              "      <td>4.897469e-15</td>\n",
              "      <td>0.812866</td>\n",
              "    </tr>\n",
              "    <tr>\n",
              "      <th>2</th>\n",
              "      <td>0.608643</td>\n",
              "      <td>1.801517e-10</td>\n",
              "      <td>6.343064e-09</td>\n",
              "      <td>0.793444</td>\n",
              "    </tr>\n",
              "    <tr>\n",
              "      <th>3</th>\n",
              "      <td>0.616748</td>\n",
              "      <td>1.011913e-12</td>\n",
              "      <td>1.606810e-14</td>\n",
              "      <td>0.787161</td>\n",
              "    </tr>\n",
              "    <tr>\n",
              "      <th>4</th>\n",
              "      <td>0.587310</td>\n",
              "      <td>1.379869e-12</td>\n",
              "      <td>2.027257e-15</td>\n",
              "      <td>0.809362</td>\n",
              "    </tr>\n",
              "    <tr>\n",
              "      <th>...</th>\n",
              "      <td>...</td>\n",
              "      <td>...</td>\n",
              "      <td>...</td>\n",
              "      <td>...</td>\n",
              "    </tr>\n",
              "    <tr>\n",
              "      <th>13493</th>\n",
              "      <td>0.499183</td>\n",
              "      <td>1.684594e-07</td>\n",
              "      <td>2.224862e-10</td>\n",
              "      <td>0.866496</td>\n",
              "    </tr>\n",
              "    <tr>\n",
              "      <th>13494</th>\n",
              "      <td>0.566642</td>\n",
              "      <td>3.326952e-10</td>\n",
              "      <td>1.059737e-18</td>\n",
              "      <td>0.823964</td>\n",
              "    </tr>\n",
              "    <tr>\n",
              "      <th>13495</th>\n",
              "      <td>0.648893</td>\n",
              "      <td>1.261061e-03</td>\n",
              "      <td>8.954618e-04</td>\n",
              "      <td>0.760878</td>\n",
              "    </tr>\n",
              "    <tr>\n",
              "      <th>13496</th>\n",
              "      <td>0.678441</td>\n",
              "      <td>4.451057e-15</td>\n",
              "      <td>1.597397e-19</td>\n",
              "      <td>0.734655</td>\n",
              "    </tr>\n",
              "    <tr>\n",
              "      <th>13497</th>\n",
              "      <td>0.617746</td>\n",
              "      <td>8.537028e-27</td>\n",
              "      <td>6.968413e-12</td>\n",
              "      <td>0.786377</td>\n",
              "    </tr>\n",
              "  </tbody>\n",
              "</table>\n",
              "<p>13498 rows × 4 columns</p>\n",
              "</div>"
            ],
            "text/plain": [
              "           f391          f472          f537      f627\n",
              "0      0.489636  1.474244e-18  4.290814e-13  0.871927\n",
              "1      0.582451  8.961897e-15  4.897469e-15  0.812866\n",
              "2      0.608643  1.801517e-10  6.343064e-09  0.793444\n",
              "3      0.616748  1.011913e-12  1.606810e-14  0.787161\n",
              "4      0.587310  1.379869e-12  2.027257e-15  0.809362\n",
              "...         ...           ...           ...       ...\n",
              "13493  0.499183  1.684594e-07  2.224862e-10  0.866496\n",
              "13494  0.566642  3.326952e-10  1.059737e-18  0.823964\n",
              "13495  0.648893  1.261061e-03  8.954618e-04  0.760878\n",
              "13496  0.678441  4.451057e-15  1.597397e-19  0.734655\n",
              "13497  0.617746  8.537028e-27  6.968413e-12  0.786377\n",
              "\n",
              "[13498 rows x 4 columns]"
            ]
          },
          "metadata": {},
          "execution_count": 45
        }
      ]
    },
    {
      "cell_type": "markdown",
      "metadata": {
        "id": "HumljENFVRNx"
      },
      "source": [
        "Проведем поиск гиперпараметров"
      ]
    },
    {
      "cell_type": "code",
      "metadata": {
        "colab": {
          "base_uri": "https://localhost:8080/"
        },
        "id": "VGLWhG9wUE68",
        "outputId": "d3fe3653-2f8e-4f21-d957-daba623bf9d2"
      },
      "source": [
        "model = RandomForestClassifier()\n",
        "param_grid_u = { \n",
        "    'n_estimators': [5, 50],\n",
        "    'max_features': ['auto', 'sqrt', 'log2'],\n",
        "    'max_depth' : [2,3,4,5,6],\n",
        "    'criterion' :['gini', 'entropy']\n",
        "}\n",
        "CV_rfc_u = GridSearchCV(estimator=model_u, param_grid=param_grid_u, cv= 5,scoring='f1')\n",
        "CV_rfc_u.fit(x_train_u.iloc[:,[383, 462, 525, 612]], y_train_u)"
      ],
      "execution_count": null,
      "outputs": [
        {
          "output_type": "execute_result",
          "data": {
            "text/plain": [
              "GridSearchCV(cv=5, error_score=nan,\n",
              "             estimator=RandomForestClassifier(bootstrap=True, ccp_alpha=0.0,\n",
              "                                              class_weight=None,\n",
              "                                              criterion='gini', max_depth=5,\n",
              "                                              max_features='auto',\n",
              "                                              max_leaf_nodes=None,\n",
              "                                              max_samples=None,\n",
              "                                              min_impurity_decrease=0.0,\n",
              "                                              min_impurity_split=None,\n",
              "                                              min_samples_leaf=1,\n",
              "                                              min_samples_split=2,\n",
              "                                              min_weight_fraction_leaf=0.0,\n",
              "                                              n_estimators=30, n_jobs=None,\n",
              "                                              oob_score=False,\n",
              "                                              random_state=None, verbose=0,\n",
              "                                              warm_start=False),\n",
              "             iid='deprecated', n_jobs=None,\n",
              "             param_grid={'criterion': ['gini', 'entropy'],\n",
              "                         'max_depth': [2, 3, 4, 5, 6],\n",
              "                         'max_features': ['auto', 'sqrt', 'log2'],\n",
              "                         'n_estimators': [5, 50]},\n",
              "             pre_dispatch='2*n_jobs', refit=True, return_train_score=False,\n",
              "             scoring='f1', verbose=0)"
            ]
          },
          "metadata": {},
          "execution_count": 48
        }
      ]
    },
    {
      "cell_type": "code",
      "metadata": {
        "colab": {
          "base_uri": "https://localhost:8080/"
        },
        "id": "zj23b4leUnej",
        "outputId": "6bdceafa-4e12-43a5-9328-0bfba536a5aa"
      },
      "source": [
        "CV_rfc_u.best_params_"
      ],
      "execution_count": null,
      "outputs": [
        {
          "output_type": "execute_result",
          "data": {
            "text/plain": [
              "{'criterion': 'entropy',\n",
              " 'max_depth': 2,\n",
              " 'max_features': 'auto',\n",
              " 'n_estimators': 5}"
            ]
          },
          "metadata": {},
          "execution_count": 49
        }
      ]
    },
    {
      "cell_type": "code",
      "metadata": {
        "id": "od3AQPIjUHcD"
      },
      "source": [
        "model_u = RandomForestClassifier(n_estimators = 5,max_features='auto',max_depth=2,criterion='entropy')\n",
        "model_u.fit(x_train_u.iloc[:,[383, 462, 525, 612]], y_train_u)\n",
        "\n",
        "model_u_pred = model_u.predict(x_test_u.iloc[:,[383, 462, 525, 612]])"
      ],
      "execution_count": null,
      "outputs": []
    },
    {
      "cell_type": "code",
      "metadata": {
        "colab": {
          "base_uri": "https://localhost:8080/"
        },
        "id": "qq18UMEpUHcE",
        "outputId": "d1b564a5-ca3a-4376-b338-4ecb3a95c30b"
      },
      "source": [
        "f1_score(y_true = y_test_u,y_pred=model_u_pred)"
      ],
      "execution_count": null,
      "outputs": [
        {
          "output_type": "execute_result",
          "data": {
            "text/plain": [
              "0.6265748798545265"
            ]
          },
          "metadata": {},
          "execution_count": 51
        }
      ]
    },
    {
      "cell_type": "code",
      "metadata": {
        "colab": {
          "base_uri": "https://localhost:8080/"
        },
        "id": "OYpmGktnUNoy",
        "outputId": "6d7f52f4-eaba-473f-dcd5-fae308aea8ee"
      },
      "source": [
        "roc_auc_score(y_test_u, model_u.predict_proba(x_test_u.iloc[:,[383, 462, 525, 612]])[:,1])"
      ],
      "execution_count": null,
      "outputs": [
        {
          "output_type": "execute_result",
          "data": {
            "text/plain": [
              "0.5125873930349399"
            ]
          },
          "metadata": {},
          "execution_count": 52
        }
      ]
    },
    {
      "cell_type": "markdown",
      "metadata": {
        "id": "BA2qnCqGXXNQ"
      },
      "source": [
        "## Логистическая регрессия"
      ]
    },
    {
      "cell_type": "markdown",
      "metadata": {
        "id": "JclLyyCOViCL"
      },
      "source": [
        "Воспользуемся еще одним алгоритмом для задачи классификации. Построим модель на 4х ранее выделенных признаках"
      ]
    },
    {
      "cell_type": "code",
      "metadata": {
        "id": "1XlRvrTFVw35"
      },
      "source": [
        "logreg = LogisticRegression().fit(x_train_u.iloc[:,[383, 462, 525, 612]], y_train_u)\n",
        "logreg_pred = logreg.predict(x_test_u.iloc[:,[383, 462, 525, 612]])"
      ],
      "execution_count": null,
      "outputs": []
    },
    {
      "cell_type": "code",
      "metadata": {
        "colab": {
          "base_uri": "https://localhost:8080/"
        },
        "id": "kettbAJXWWVb",
        "outputId": "cf6bc4be-aad3-40fc-a6a3-42f57ffa73df"
      },
      "source": [
        "f1_score(y_test_u,logreg_pred)"
      ],
      "execution_count": null,
      "outputs": [
        {
          "output_type": "execute_result",
          "data": {
            "text/plain": [
              "0.590286784839314"
            ]
          },
          "metadata": {},
          "execution_count": 57
        }
      ]
    },
    {
      "cell_type": "code",
      "metadata": {
        "colab": {
          "base_uri": "https://localhost:8080/"
        },
        "id": "Lj_6Bs0EWhAO",
        "outputId": "3ff14701-6947-4e53-cacf-83e35c28234a"
      },
      "source": [
        "roc_auc_score(y_test_u, logreg.predict_proba(x_test_u.iloc[:,[383, 462, 525, 612]])[:,1])"
      ],
      "execution_count": null,
      "outputs": [
        {
          "output_type": "execute_result",
          "data": {
            "text/plain": [
              "0.504128884772152"
            ]
          },
          "metadata": {},
          "execution_count": 59
        }
      ]
    },
    {
      "cell_type": "markdown",
      "metadata": {
        "id": "ItwJj4QOVrY3"
      },
      "source": [
        "Проверим и построим на всех данных"
      ]
    },
    {
      "cell_type": "code",
      "metadata": {
        "colab": {
          "base_uri": "https://localhost:8080/"
        },
        "id": "zBfM6V67Wt3M",
        "outputId": "475ce96f-4f84-471b-f151-0bf8d8f420b3"
      },
      "source": [
        "logreg = LogisticRegression().fit(x_train_u, y_train_u)\n",
        "logreg_pred = logreg.predict(x_test_u)\n",
        "f1_score(y_test_u,logreg_pred)"
      ],
      "execution_count": null,
      "outputs": [
        {
          "output_type": "execute_result",
          "data": {
            "text/plain": [
              "0.5534988713318284"
            ]
          },
          "metadata": {},
          "execution_count": 73
        }
      ]
    },
    {
      "cell_type": "code",
      "metadata": {
        "colab": {
          "base_uri": "https://localhost:8080/"
        },
        "id": "-G48jqMcWnz3",
        "outputId": "c95151c8-ea2c-4395-bb76-78edce77b217"
      },
      "source": [
        "roc_auc_score(y_test_u, logreg.predict_proba(x_test_u)[:,1])"
      ],
      "execution_count": null,
      "outputs": [
        {
          "output_type": "execute_result",
          "data": {
            "text/plain": [
              "0.49273016946552645"
            ]
          },
          "metadata": {},
          "execution_count": 74
        }
      ]
    },
    {
      "cell_type": "code",
      "metadata": {
        "id": "w9UblSnnWCzd"
      },
      "source": [
        ""
      ],
      "execution_count": null,
      "outputs": []
    },
    {
      "cell_type": "markdown",
      "metadata": {
        "id": "g_iKO-3JWITj"
      },
      "source": [
        "Проведем отбор гиперпараметров"
      ]
    },
    {
      "cell_type": "code",
      "metadata": {
        "colab": {
          "base_uri": "https://localhost:8080/"
        },
        "id": "zI58tGVuXs-e",
        "outputId": "d29931bc-0de9-4c15-d437-54150d906a9e"
      },
      "source": [
        "grid_values = {'penalty': ['l2'], 'C': [0.001,0.01,0.1,1,10,100,1000]}\n",
        "logreg = LogisticRegression()\n",
        "\n",
        "logreg = GridSearchCV(logreg, param_grid=grid_values)\n",
        "logreg.fit(x_train_u,y_train_u)"
      ],
      "execution_count": null,
      "outputs": [
        {
          "output_type": "execute_result",
          "data": {
            "text/plain": [
              "GridSearchCV(cv=None, error_score=nan,\n",
              "             estimator=LogisticRegression(C=1.0, class_weight=None, dual=False,\n",
              "                                          fit_intercept=True,\n",
              "                                          intercept_scaling=1, l1_ratio=None,\n",
              "                                          max_iter=100, multi_class='auto',\n",
              "                                          n_jobs=None, penalty='l2',\n",
              "                                          random_state=None, solver='lbfgs',\n",
              "                                          tol=0.0001, verbose=0,\n",
              "                                          warm_start=False),\n",
              "             iid='deprecated', n_jobs=None,\n",
              "             param_grid={'C': [0.001, 0.01, 0.1, 1, 10, 100, 1000],\n",
              "                         'penalty': ['l2']},\n",
              "             pre_dispatch='2*n_jobs', refit=True, return_train_score=False,\n",
              "             scoring=None, verbose=0)"
            ]
          },
          "metadata": {},
          "execution_count": 65
        }
      ]
    },
    {
      "cell_type": "code",
      "metadata": {
        "colab": {
          "base_uri": "https://localhost:8080/"
        },
        "id": "dEr71LO-YD-a",
        "outputId": "a84a0579-7ec3-4530-c026-f08d3f656530"
      },
      "source": [
        "logreg.best_params_"
      ],
      "execution_count": null,
      "outputs": [
        {
          "output_type": "execute_result",
          "data": {
            "text/plain": [
              "{'C': 1000, 'penalty': 'l2'}"
            ]
          },
          "metadata": {},
          "execution_count": 67
        }
      ]
    },
    {
      "cell_type": "code",
      "metadata": {
        "id": "RYUhcgJ7YYEf"
      },
      "source": [
        "logreg = LogisticRegression(C=1000)\n",
        "logreg.fit(x_train_u,y_train_u)\n",
        "logreg_pred = logreg.predict(x_test_u)"
      ],
      "execution_count": null,
      "outputs": []
    },
    {
      "cell_type": "code",
      "metadata": {
        "colab": {
          "base_uri": "https://localhost:8080/"
        },
        "id": "a7brvA1VYtcx",
        "outputId": "9df600cd-c066-419a-9bee-a1583813aba6"
      },
      "source": [
        "f1_score(y_test_u,logreg_pred)"
      ],
      "execution_count": null,
      "outputs": [
        {
          "output_type": "execute_result",
          "data": {
            "text/plain": [
              "0.5535797123859595"
            ]
          },
          "metadata": {},
          "execution_count": 69
        }
      ]
    },
    {
      "cell_type": "code",
      "metadata": {
        "colab": {
          "base_uri": "https://localhost:8080/"
        },
        "id": "ME9z4fP1YxGY",
        "outputId": "606a6801-7cc4-4d4e-ef0c-ddc5419a316e"
      },
      "source": [
        "roc_auc_score(y_test_u, logreg.predict_proba(x_test_u)[:,1])"
      ],
      "execution_count": null,
      "outputs": [
        {
          "output_type": "execute_result",
          "data": {
            "text/plain": [
              "0.5100101707617365"
            ]
          },
          "metadata": {},
          "execution_count": 70
        }
      ]
    },
    {
      "cell_type": "markdown",
      "metadata": {
        "id": "z31Ubxp1emUk"
      },
      "source": [
        "# Итоги"
      ]
    },
    {
      "cell_type": "code",
      "metadata": {
        "colab": {
          "base_uri": "https://localhost:8080/",
          "height": 172
        },
        "id": "y2HdvjMYaUyk",
        "outputId": "b0428428-0ed5-45a1-9ea5-32fafa69e308"
      },
      "source": [
        "lgd = [0.59028,0.50412,0.55357,0.51001]\n",
        "rfg = [0.62657,0.51258,0.55335,0.50459]\n",
        "\n",
        "res = pd.DataFrame([lgd,rfg],\n",
        "                   columns=[['4_feats','4_feats','All','All'],['4_feats_F1','4_feats_RocAuc','All_F1','All_RocAuc'],],\n",
        "                   index=['LogReg','RF']).T\n",
        "res"
      ],
      "execution_count": null,
      "outputs": [
        {
          "output_type": "execute_result",
          "data": {
            "text/html": [
              "<div>\n",
              "<style scoped>\n",
              "    .dataframe tbody tr th:only-of-type {\n",
              "        vertical-align: middle;\n",
              "    }\n",
              "\n",
              "    .dataframe tbody tr th {\n",
              "        vertical-align: top;\n",
              "    }\n",
              "\n",
              "    .dataframe thead th {\n",
              "        text-align: right;\n",
              "    }\n",
              "</style>\n",
              "<table border=\"1\" class=\"dataframe\">\n",
              "  <thead>\n",
              "    <tr style=\"text-align: right;\">\n",
              "      <th></th>\n",
              "      <th></th>\n",
              "      <th>LogReg</th>\n",
              "      <th>RF</th>\n",
              "    </tr>\n",
              "  </thead>\n",
              "  <tbody>\n",
              "    <tr>\n",
              "      <th rowspan=\"2\" valign=\"top\">4_feats</th>\n",
              "      <th>4_feats_F1</th>\n",
              "      <td>0.59028</td>\n",
              "      <td>0.62657</td>\n",
              "    </tr>\n",
              "    <tr>\n",
              "      <th>4_feats_RocAuc</th>\n",
              "      <td>0.50412</td>\n",
              "      <td>0.51258</td>\n",
              "    </tr>\n",
              "    <tr>\n",
              "      <th rowspan=\"2\" valign=\"top\">All</th>\n",
              "      <th>All_F1</th>\n",
              "      <td>0.55357</td>\n",
              "      <td>0.55335</td>\n",
              "    </tr>\n",
              "    <tr>\n",
              "      <th>All_RocAuc</th>\n",
              "      <td>0.51001</td>\n",
              "      <td>0.50459</td>\n",
              "    </tr>\n",
              "  </tbody>\n",
              "</table>\n",
              "</div>"
            ],
            "text/plain": [
              "                         LogReg       RF\n",
              "4_feats 4_feats_F1      0.59028  0.62657\n",
              "        4_feats_RocAuc  0.50412  0.51258\n",
              "All     All_F1          0.55357  0.55335\n",
              "        All_RocAuc      0.51001  0.50459"
            ]
          },
          "metadata": {},
          "execution_count": 114
        }
      ]
    },
    {
      "cell_type": "markdown",
      "metadata": {
        "id": "bb7DgCileo6X"
      },
      "source": [
        "Как видно из таблицы, случайный лес выигрывает практически по всем показателям (не считая для всех значений).\n",
        "\n",
        "Несмотря на то, что прирост довольно маленький, все значения выше 0.5\n",
        "\n",
        "Можно сказать, что несбалансированный датасет в данном случае сильно повлиял на ход работы; подобный датасет в будущем можно попробовать undersample`ить с помощью функций от https://imbalanced-learn.org/stable/under_sampling.html \n",
        "\n",
        "К тому же, из-за количества признаков следовало отбирать их отдельно, для чего в дальнейшем можно попробовать использовать другие методы."
      ]
    },
    {
      "cell_type": "code",
      "metadata": {
        "id": "OpmhLBzUrAma",
        "colab": {
          "base_uri": "https://localhost:8080/"
        },
        "outputId": "79ad3080-d433-41c5-f9c8-2064e4318543"
      },
      "source": [
        "%%shell\n",
        "jupyter nbconvert --to html /content/Koshkareva_FinProject.ipynb"
      ],
      "execution_count": null,
      "outputs": [
        {
          "output_type": "stream",
          "name": "stdout",
          "text": [
            "[NbConvertApp] Converting notebook /content/Koshkareva_FinProject.ipynb to html\n",
            "[NbConvertApp] Writing 480390 bytes to /content/Koshkareva_FinProject.html\n"
          ]
        },
        {
          "output_type": "execute_result",
          "data": {
            "text/plain": [
              ""
            ]
          },
          "metadata": {},
          "execution_count": 115
        }
      ]
    },
    {
      "cell_type": "code",
      "metadata": {
        "id": "clfBKaQrrbpM"
      },
      "source": [
        ""
      ],
      "execution_count": null,
      "outputs": []
    }
  ]
}